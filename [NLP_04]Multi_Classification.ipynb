{
  "nbformat": 4,
  "nbformat_minor": 0,
  "metadata": {
    "colab": {
      "name": "[NLP-04]Multi_Classification.ipynb",
      "provenance": [],
      "toc_visible": true,
      "collapsed_sections": []
    },
    "kernelspec": {
      "name": "python3",
      "display_name": "Python 3"
    },
    "language_info": {
      "name": "python"
    },
    "accelerator": "GPU"
  },
  "cells": [
    {
      "cell_type": "markdown",
      "source": [
        "# NLP 4. Multi_Classification\n",
        "\n"
      ],
      "metadata": {
        "id": "PgNP6Ca8DuW_"
      }
    },
    {
      "cell_type": "markdown",
      "source": [
        "## 실습 : 머신러닝 모델로 자연어 데이터 분류하기"
      ],
      "metadata": {
        "id": "gYs0_WlOEwZO"
      }
    },
    {
      "cell_type": "markdown",
      "source": [
        "### 1. 준비"
      ],
      "metadata": {
        "id": "pvy_Ph4LFMoK"
      }
    },
    {
      "cell_type": "code",
      "source": [
        "# import\n",
        "from tensorflow.keras.datasets import reuters\n",
        "import matplotlib.pyplot as plt\n",
        "import seaborn as sns\n",
        "import numpy as np\n",
        "import pandas as pd"
      ],
      "metadata": {
        "id": "b950Jdc2FPBl"
      },
      "execution_count": 1,
      "outputs": []
    },
    {
      "cell_type": "code",
      "source": [
        "# 텐서플로우 제공 데이터셋 다운로드\n",
        "(x_train, y_train), (x_test, y_test) = reuters.load_data(num_words=10000, test_split=0.2)"
      ],
      "metadata": {
        "id": "VYczGtZtFuAW",
        "colab": {
          "base_uri": "https://localhost:8080/"
        },
        "outputId": "1fa86f0b-ee50-4822-8070-2bda02df9e2f"
      },
      "execution_count": 2,
      "outputs": [
        {
          "output_type": "stream",
          "name": "stdout",
          "text": [
            "Downloading data from https://storage.googleapis.com/tensorflow/tf-keras-datasets/reuters.npz\n",
            "2113536/2110848 [==============================] - 0s 0us/step\n",
            "2121728/2110848 [==============================] - 0s 0us/step\n"
          ]
        }
      ]
    },
    {
      "cell_type": "markdown",
      "source": [
        "- numwords : 빈도순으로 사용할 단어의 종류\n",
        "- test_split : train-test split"
      ],
      "metadata": {
        "id": "xKAi4976F30k"
      }
    },
    {
      "cell_type": "markdown",
      "source": [
        "### 2. 데이터 확인"
      ],
      "metadata": {
        "id": "rsPzU5vvGT_h"
      }
    },
    {
      "cell_type": "code",
      "source": [
        "print('훈련 샘플의 수: {}'.format(len(x_train)))\n",
        "print('테스트 샘플의 수: {}'.format(len(x_test)))"
      ],
      "metadata": {
        "id": "_lk-CrDYG23B",
        "colab": {
          "base_uri": "https://localhost:8080/"
        },
        "outputId": "7b508a7a-cfbf-4833-a386-cfe0460205cb"
      },
      "execution_count": 3,
      "outputs": [
        {
          "output_type": "stream",
          "name": "stdout",
          "text": [
            "훈련 샘플의 수: 8982\n",
            "테스트 샘플의 수: 2246\n"
          ]
        }
      ]
    },
    {
      "cell_type": "code",
      "source": [
        "print(x_train[0])\n",
        "print(x_test[0])"
      ],
      "metadata": {
        "id": "TkWMF496G3xr",
        "colab": {
          "base_uri": "https://localhost:8080/"
        },
        "outputId": "97161548-9402-447d-868e-742369b42a49"
      },
      "execution_count": 4,
      "outputs": [
        {
          "output_type": "stream",
          "name": "stdout",
          "text": [
            "[1, 2, 2, 8, 43, 10, 447, 5, 25, 207, 270, 5, 3095, 111, 16, 369, 186, 90, 67, 7, 89, 5, 19, 102, 6, 19, 124, 15, 90, 67, 84, 22, 482, 26, 7, 48, 4, 49, 8, 864, 39, 209, 154, 6, 151, 6, 83, 11, 15, 22, 155, 11, 15, 7, 48, 9, 4579, 1005, 504, 6, 258, 6, 272, 11, 15, 22, 134, 44, 11, 15, 16, 8, 197, 1245, 90, 67, 52, 29, 209, 30, 32, 132, 6, 109, 15, 17, 12]\n",
            "[1, 4, 1378, 2025, 9, 697, 4622, 111, 8, 25, 109, 29, 3650, 11, 150, 244, 364, 33, 30, 30, 1398, 333, 6, 2, 159, 9, 1084, 363, 13, 2, 71, 9, 2, 71, 117, 4, 225, 78, 206, 10, 9, 1214, 8, 4, 270, 5, 2, 7, 748, 48, 9, 2, 7, 207, 1451, 966, 1864, 793, 97, 133, 336, 7, 4, 493, 98, 273, 104, 284, 25, 39, 338, 22, 905, 220, 3465, 644, 59, 20, 6, 119, 61, 11, 15, 58, 579, 26, 10, 67, 7, 4, 738, 98, 43, 88, 333, 722, 12, 20, 6, 19, 746, 35, 15, 10, 9, 1214, 855, 129, 783, 21, 4, 2280, 244, 364, 51, 16, 299, 452, 16, 515, 4, 99, 29, 5, 4, 364, 281, 48, 10, 9, 1214, 23, 644, 47, 20, 324, 27, 56, 2, 2, 5, 192, 510, 17, 12]\n"
          ]
        }
      ]
    },
    {
      "cell_type": "markdown",
      "source": [
        "- 이미 어느정도 전처리가 되어있다."
      ],
      "metadata": {
        "id": "mzdblSpxHFZJ"
      }
    },
    {
      "cell_type": "code",
      "source": [
        "type(x_train)"
      ],
      "metadata": {
        "id": "GPuPK1DsIaP7",
        "colab": {
          "base_uri": "https://localhost:8080/"
        },
        "outputId": "326d18f1-f369-4b3b-f043-f212853df4e8"
      },
      "execution_count": 5,
      "outputs": [
        {
          "output_type": "execute_result",
          "data": {
            "text/plain": [
              "numpy.ndarray"
            ]
          },
          "metadata": {},
          "execution_count": 5
        }
      ]
    },
    {
      "cell_type": "code",
      "source": [
        "print(y_train[0])\n",
        "print(y_test[0])"
      ],
      "metadata": {
        "id": "1Tsr76lSIb94",
        "colab": {
          "base_uri": "https://localhost:8080/"
        },
        "outputId": "d4701583-ebd2-457a-ce30-173cdb25c4b8"
      },
      "execution_count": 6,
      "outputs": [
        {
          "output_type": "stream",
          "name": "stdout",
          "text": [
            "3\n",
            "3\n"
          ]
        }
      ]
    },
    {
      "cell_type": "markdown",
      "source": [
        "- 다운받은 뉴스기사들은 정수로 라벨링되어있다.\n",
        "- 라벨링은 0부터 n까지일 것\n",
        "- 따라서 라벨의 최대값 + 1 = 클래스의 수"
      ],
      "metadata": {
        "id": "pwn5iOkoIiUB"
      }
    },
    {
      "cell_type": "code",
      "source": [
        "num_classes = max(y_train) + 1\n",
        "print('클래스의 수 : {}'.format(num_classes))"
      ],
      "metadata": {
        "id": "dCvl9xb9I_Pw",
        "colab": {
          "base_uri": "https://localhost:8080/"
        },
        "outputId": "903cde3f-ba56-4557-c4dd-7af5e9fa32b0"
      },
      "execution_count": 7,
      "outputs": [
        {
          "output_type": "stream",
          "name": "stdout",
          "text": [
            "클래스의 수 : 46\n"
          ]
        }
      ]
    },
    {
      "cell_type": "code",
      "source": [
        "# 데이터(뉴스 기사)의 길이 분포 확인\n",
        "print('훈련용 뉴스의 최대 길이 :{}'.format(max(len(l) for l in x_train)))\n",
        "print('훈련용 뉴스의 평균 길이 :{}'.format(sum(map(len, x_train))/len(x_train)))\n",
        "\n",
        "plt.style.use(['dark_background'])\n",
        "\n",
        "plt.hist([len(s) for s in x_train], bins=50)\n",
        "plt.xlabel('length of samples')\n",
        "plt.ylabel('number of samples')\n",
        "plt.show()"
      ],
      "metadata": {
        "id": "Si72JZ3_JJlw",
        "colab": {
          "base_uri": "https://localhost:8080/",
          "height": 315
        },
        "outputId": "4fc0bb82-8019-4cad-f39c-527997037790"
      },
      "execution_count": 8,
      "outputs": [
        {
          "output_type": "stream",
          "name": "stdout",
          "text": [
            "훈련용 뉴스의 최대 길이 :2376\n",
            "훈련용 뉴스의 평균 길이 :145.5398574927633\n"
          ]
        },
        {
          "output_type": "display_data",
          "data": {
            "text/plain": [
              "<Figure size 432x288 with 1 Axes>"
            ],
            "image/png": "[encoded data removed]"
          },
          "metadata": {}
        }
      ]
    },
    {
      "cell_type": "code",
      "source": [
        ""
      ],
      "metadata": {
        "id": "vMpUEB5ConVa"
      },
      "execution_count": null,
      "outputs": []
    },
    {
      "cell_type": "code",
      "source": [
        "# 클래스별 분포 확인\n",
        "fig, axe = plt.subplots(ncols=1)\n",
        "fig.set_size_inches(11,5)\n",
        "sns.countplot(x=y_train)\n",
        "plt.show()"
      ],
      "metadata": {
        "id": "7EfCMh3qJV_b",
        "colab": {
          "base_uri": "https://localhost:8080/",
          "height": 320
        },
        "outputId": "3daa57ac-bf60-49b4-cf51-8cbd0b7f4260"
      },
      "execution_count": 9,
      "outputs": [
        {
          "output_type": "display_data",
          "data": {
            "text/plain": [
              "<Figure size 792x360 with 1 Axes>"
            ],
            "image/png": "[encoded data removed]"
          },
          "metadata": {}
        }
      ]
    },
    {
      "cell_type": "markdown",
      "source": [
        "- 특정 클래스에 편중되어있음을 확인할 수 있다."
      ],
      "metadata": {
        "id": "lqAiOGORJA4B"
      }
    },
    {
      "cell_type": "code",
      "source": [
        "unique_elements, counts_elements = np.unique(y_train, return_counts=True)\n",
        "print(\"각 클래스 빈도수:\")\n",
        "print(np.asarray((unique_elements, counts_elements)))"
      ],
      "metadata": {
        "id": "30iPJ9VIJ0q4",
        "colab": {
          "base_uri": "https://localhost:8080/"
        },
        "outputId": "7d4af65b-9558-4cf6-e12c-ce4aa6b01336"
      },
      "execution_count": 10,
      "outputs": [
        {
          "output_type": "stream",
          "name": "stdout",
          "text": [
            "각 클래스 빈도수:\n",
            "[[   0    1    2    3    4    5    6    7    8    9   10   11   12   13\n",
            "    14   15   16   17   18   19   20   21   22   23   24   25   26   27\n",
            "    28   29   30   31   32   33   34   35   36   37   38   39   40   41\n",
            "    42   43   44   45]\n",
            " [  55  432   74 3159 1949   17   48   16  139  101  124  390   49  172\n",
            "    26   20  444   39   66  549  269  100   15   41   62   92   24   15\n",
            "    48   19   45   39   32   11   50   10   49   19   19   24   36   30\n",
            "    13   21   12   18]]\n"
          ]
        }
      ]
    },
    {
      "cell_type": "markdown",
      "source": [
        "#### 3.1. 데이터 복원\n",
        "- 디코딩하여 원본 기사를 확인해본다\n",
        "- 일반적인 데이터 전처리 과정은 아니며, 학습을 위한 부분"
      ],
      "metadata": {
        "id": "o7V0j23aJ2K0"
      }
    },
    {
      "cell_type": "code",
      "source": [
        "# 데이터의 단어장을 다운로드\n",
        "word_index = reuters.get_word_index(path=\"reuters_word_index.json\")"
      ],
      "metadata": {
        "id": "FsSp3WmLKUxt",
        "colab": {
          "base_uri": "https://localhost:8080/"
        },
        "outputId": "aa15eeed-f158-4bca-a546-fb532ef08be8"
      },
      "execution_count": 11,
      "outputs": [
        {
          "output_type": "stream",
          "name": "stdout",
          "text": [
            "Downloading data from https://storage.googleapis.com/tensorflow/tf-keras-datasets/reuters_word_index.json\n",
            "557056/550378 [==============================] - 0s 0us/step\n",
            "565248/550378 [==============================] - 0s 0us/step\n"
          ]
        }
      ]
    },
    {
      "cell_type": "code",
      "source": [
        "# 예시 단어의 맵핑 확인\n",
        "\n",
        "word_index['the']"
      ],
      "metadata": {
        "id": "aI8yTE4nKvs-",
        "colab": {
          "base_uri": "https://localhost:8080/"
        },
        "outputId": "e178de5e-470d-4b1a-db6a-b7f31de74d3e"
      },
      "execution_count": 12,
      "outputs": [
        {
          "output_type": "execute_result",
          "data": {
            "text/plain": [
              "1"
            ]
          },
          "metadata": {},
          "execution_count": 12
        }
      ]
    },
    {
      "cell_type": "code",
      "source": [
        "word_index['it']"
      ],
      "metadata": {
        "id": "IweM_Nk1K3nm",
        "colab": {
          "base_uri": "https://localhost:8080/"
        },
        "outputId": "b37eee39-3292-42d3-d20d-8eeaf3716698"
      },
      "execution_count": 13,
      "outputs": [
        {
          "output_type": "execute_result",
          "data": {
            "text/plain": [
              "13"
            ]
          },
          "metadata": {},
          "execution_count": 13
        }
      ]
    },
    {
      "cell_type": "code",
      "source": [
        "# +3 해서 원래 매칭된 정수 찾기\n",
        "# 토큰화 과정에서 처리된 것으로 보인다.\n",
        "index_to_word = { index+3 : word for word, index in word_index.items() }"
      ],
      "metadata": {
        "id": "H8pO7ok2LJb5"
      },
      "execution_count": 14,
      "outputs": []
    },
    {
      "cell_type": "code",
      "source": [
        "print(index_to_word[4])\n",
        "print(index_to_word[16])"
      ],
      "metadata": {
        "id": "2D7V-ooxLddD",
        "colab": {
          "base_uri": "https://localhost:8080/"
        },
        "outputId": "0bc63e83-f4e6-44d6-a8dc-9d01fc46ced6"
      },
      "execution_count": 15,
      "outputs": [
        {
          "output_type": "stream",
          "name": "stdout",
          "text": [
            "the\n",
            "it\n"
          ]
        }
      ]
    },
    {
      "cell_type": "code",
      "source": [
        "# index_to_word에 숫자 0은 <pad>, 숫자 1은 <sos>, 숫자 2는 <unk>를 넣어줍니다.\n",
        "for index, token in enumerate((\"<pad>\", \"<sos>\", \"<unk>\")):\n",
        "  index_to_word[index]=token"
      ],
      "metadata": {
        "id": "BFkbgtXxLfWV"
      },
      "execution_count": 16,
      "outputs": []
    },
    {
      "cell_type": "code",
      "source": [
        "# 복원\n",
        "print(' '.join([index_to_word[index] for index in x_train[0]]))"
      ],
      "metadata": {
        "id": "ggo00LK8Lh9S",
        "colab": {
          "base_uri": "https://localhost:8080/"
        },
        "outputId": "ccdf27a2-3975-46ce-dee9-da2ec3182a45"
      },
      "execution_count": 17,
      "outputs": [
        {
          "output_type": "stream",
          "name": "stdout",
          "text": [
            "<sos> <unk> <unk> said as a result of its december acquisition of space co it expects earnings per share in 1987 of 1 15 to 1 30 dlrs per share up from 70 cts in 1986 the company said pretax net should rise to nine to 10 mln dlrs from six mln dlrs in 1986 and rental operation revenues to 19 to 22 mln dlrs from 12 5 mln dlrs it said cash flow per share this year should be 2 50 to three dlrs reuter 3\n"
          ]
        }
      ]
    },
    {
      "cell_type": "markdown",
      "source": [
        "- 전처리된 문장이므로 자연스럽지는 않다.\n",
        "- \\<UNK> 토큰\n",
        "    > 또는 OOV(Out-Of-Vocabulary)\n",
        "    >\n",
        "    > 토큰화된 코퍼스에 없는, 컴퓨터가 모르는 단어. 일괄적으로 언노운 또는 OOV로 표현"
      ],
      "metadata": {
        "id": "A2tdFDKOLjzC"
      }
    },
    {
      "cell_type": "code",
      "source": [
        "for i in [4, 587, 23, 133, 6, 30, 515]:\n",
        "    print(index_to_word[i])"
      ],
      "metadata": {
        "id": "s54PxELdMTvF",
        "colab": {
          "base_uri": "https://localhost:8080/"
        },
        "outputId": "ba972c31-19e9-4693-eb92-bc4d089abbc8"
      },
      "execution_count": 18,
      "outputs": [
        {
          "output_type": "stream",
          "name": "stdout",
          "text": [
            "the\n",
            "transaction\n",
            "is\n",
            "expected\n",
            "to\n",
            "be\n",
            "completed\n"
          ]
        }
      ]
    },
    {
      "cell_type": "markdown",
      "source": [
        "- 디코딩"
      ],
      "metadata": {
        "id": "cnyZcS9-PEHf"
      }
    },
    {
      "cell_type": "code",
      "source": [
        "decoded = []\n",
        "for i in range(len(x_train)):\n",
        "    t = ' '.join([index_to_word[index] for index in x_train[i]])\n",
        "    decoded.append(t)\n",
        "\n",
        "x_train = decoded\n",
        "print(len(x_train))"
      ],
      "metadata": {
        "id": "FBhB8tDLQgbH",
        "colab": {
          "base_uri": "https://localhost:8080/"
        },
        "outputId": "e0c5380c-0319-4f56-cfd6-88923c99c6fd"
      },
      "execution_count": 19,
      "outputs": [
        {
          "output_type": "stream",
          "name": "stdout",
          "text": [
            "8982\n"
          ]
        }
      ]
    },
    {
      "cell_type": "code",
      "source": [
        "\n",
        "decoded = []\n",
        "for i in range(len(x_test)):\n",
        "    t = ' '.join([index_to_word[index] for index in x_test[i]])\n",
        "    decoded.append(t)\n",
        "\n",
        "x_test = decoded\n",
        "print(len(x_test))"
      ],
      "metadata": {
        "id": "zstg3Q1ZQhCD",
        "colab": {
          "base_uri": "https://localhost:8080/"
        },
        "outputId": "1f6bb5f3-a814-4554-9659-5690848c2c17"
      },
      "execution_count": 20,
      "outputs": [
        {
          "output_type": "stream",
          "name": "stdout",
          "text": [
            "2246\n"
          ]
        }
      ]
    },
    {
      "cell_type": "markdown",
      "source": [
        "- 확인"
      ],
      "metadata": {
        "id": "UJ_Ogf43Ql2c"
      }
    },
    {
      "cell_type": "code",
      "source": [
        "x_train[:5]"
      ],
      "metadata": {
        "id": "cDUnTJzhQh9A",
        "colab": {
          "base_uri": "https://localhost:8080/"
        },
        "outputId": "5c72ccca-2f70-42f2-dd1a-abc93328d879"
      },
      "execution_count": 21,
      "outputs": [
        {
          "output_type": "execute_result",
          "data": {
            "text/plain": [
              "['<sos> <unk> <unk> said as a result of its december acquisition of space co it expects earnings per share in 1987 of 1 15 to 1 30 dlrs per share up from 70 cts in 1986 the company said pretax net should rise to nine to 10 mln dlrs from six mln dlrs in 1986 and rental operation revenues to 19 to 22 mln dlrs from 12 5 mln dlrs it said cash flow per share this year should be 2 50 to three dlrs reuter 3',\n",
              " '<sos> generale de banque sa lt <unk> br and lt heller overseas corp of chicago have each taken 50 pct stakes in <unk> company sa <unk> factors generale de banque said in a statement it gave no financial details of the transaction sa <unk> <unk> turnover in 1986 was 17 5 billion belgian francs reuter 3',\n",
              " '<sos> shr 3 28 dlrs vs 22 cts shr diluted 2 99 dlrs vs 22 cts net 46 0 mln vs 3 328 000 avg shrs 14 0 mln vs 15 2 mln year shr 5 41 dlrs vs 1 56 dlrs shr diluted 4 94 dlrs vs 1 50 dlrs net 78 2 mln vs 25 9 mln avg shrs 14 5 mln vs 15 1 mln note earnings per share reflect the two for one split effective january 6 1987 per share amounts are calculated after preferred stock dividends loss continuing operations for the qtr 1986 includes gains of sale of investments in <unk> corp of 14 mln dlrs and associated companies of 4 189 000 less writedowns of investments in national <unk> inc of 11 8 mln and <unk> corp of 15 6 mln reuter 3',\n",
              " \"<sos> the farmers home administration the u s agriculture department's farm lending arm could lose about seven billion dlrs in outstanding principal on its severely <unk> borrowers or about one fourth of its farm loan portfolio the general accounting office gao said in remarks prepared for delivery to the senate agriculture committee brian crowley senior associate director of gao also said that a preliminary analysis of proposed changes in <unk> financial eligibility standards indicated as many as one half of <unk> borrowers who received new loans from the agency in 1986 would be <unk> under the proposed system the agency has proposed evaluating <unk> credit using a variety of financial ratios instead of relying solely on <unk> ability senate agriculture committee chairman patrick leahy d vt <unk> the proposed eligibility changes telling <unk> administrator <unk> clark at a hearing that they would mark a dramatic shift in the agency's purpose away from being farmers' lender of last resort toward becoming a big city bank but clark defended the new regulations saying the agency had a responsibility to <unk> its 70 billion dlr loan portfolio in a <unk> yet <unk> manner crowley of gao <unk> <unk> arm said the proposed credit <unk> system attempted to ensure that <unk> would make loans only to borrowers who had a reasonable change of repaying their debt reuter 3\",\n",
              " '<sos> seton co said its board has received a proposal from chairman and chief executive officer philip d <unk> to acquire seton for 15 75 dlrs per share in cash seton said the acquisition bid is subject to <unk> arranging the necessary financing it said he intends to ask other members of senior management to participate the company said <unk> owns 30 pct of seton stock and other management members another 7 5 pct seton said it has formed an independent board committee to consider the offer and has deferred the annual meeting it had scheduled for march 31 reuter 3']"
            ]
          },
          "metadata": {},
          "execution_count": 21
        }
      ]
    },
    {
      "cell_type": "code",
      "source": [
        "x_test[:5]"
      ],
      "metadata": {
        "id": "lmGVpYOuQkJo",
        "colab": {
          "base_uri": "https://localhost:8080/"
        },
        "outputId": "eb248975-7290-4d8b-ea60-2da860484cb2"
      },
      "execution_count": 22,
      "outputs": [
        {
          "output_type": "execute_result",
          "data": {
            "text/plain": [
              "['<sos> the great atlantic and pacific tea co said its three year 345 mln dlr capital program will be be substantially increased to <unk> growth and expansion plans for <unk> inc and <unk> inc over the next two years a and p said the acquisition of <unk> in august 1986 and <unk> in december helped us achieve better than expected results in the fourth quarter ended february 28 its net income from continuing operations jumped 52 6 pct to 20 7 mln dlrs or 55 cts a share in the latest quarter as sales increased 48 3 pct to 1 58 billion dlrs a and p gave no details on the expanded capital program but it did say it completed the first year of the program during 1986 a and p is 52 4 pct owned by lt <unk> <unk> of west germany reuter 3',\n",
              " \"<sos> philippine sugar production in the 1987 88 crop year ending august has been set at 1 6 mln tonnes up from a provisional 1 3 mln tonnes this year sugar regulatory administration <unk> chairman <unk> yulo said yulo told reuters a survey during the current milling season which ends next month showed the 1986 87 estimate would almost certainly be met he said at least 1 2 mln tonnes of the 1987 88 crop would be earmarked for domestic consumption yulo said about 130 000 tonnes would be set aside for the u s sugar quota 150 000 tonnes for strategic reserves and 50 000 tonnes would be sold on the world market he said if the government approved a long standing <unk> recommendation to manufacture ethanol the project would take up another 150 000 tonnes slightly raising the target the government for its own reasons has been delaying approval of the project but we expect it to come through by july yulo said ethanol could make up five pct of gasoline cutting the oil import bill by about 300 mln pesos yulo said three major philippine <unk> were ready to start manufacturing ethanol if the project was approved the ethanol project would result in employment for about 100 000 people sharply reducing those thrown out of work by depressed world sugar prices and a <unk> domestic industry production quotas set for the first time in 1987 88 had been submitted to president corazon aquino i think the president would rather wait <unk> the new congress <unk> after the may elections he said but there is really no need for such quotas we are right now producing just slightly over our own consumption level the producers have never enjoyed such high prices yulo said adding sugar was currently selling locally for 320 pesos per <unk> up from 190 pesos last august yulo said prices were driven up because of speculation following the <unk> bid to control production we are no longer concerned so much with the world market he said adding producers in the <unk> region had learned from their <unk> and diversified into corn and <unk> farming and <unk> production he said diversification into products other than ethanol was also possible within the sugar industry the <unk> long ago <unk> their <unk> yulo said they have 300 sugar mills compared with our 41 but they <unk> many of them and diversified production we want to call this a <unk> <unk> instead of the sugar industry he said sugarcane could be fed to pigs and livestock used for <unk> <unk> or used in room <unk> when you cut sugarcane you don't even have to produce sugar he said yulo said the philippines was lobbying for a renewal of the international sugar agreement which expired in 1984 as a major sugar producer we are urging them to write a new agreement which would revive world prices yulo said if there is no agreement world prices will always be depressed particularly because the european community is <unk> its producers and dumping sugar on the markets he said current world prices holding steady at about 7 60 cents per pound were <unk> for the philippines where production costs ranged from 12 to 14 cents a pound if the price holds steady for a while at 7 60 cents i expect the level to rise to about 11 cents a pound by the end of this year he said yulo said economists forecast a bullish sugar market by 1990 with world consumption <unk> production he said sugar markets were holding up despite <unk> from artificial sweeteners and high fructose corn syrup but we are not happy with the reagan administration he said since <unk> we have been regular suppliers of sugar to the u s in 1982 when they restored the quota system they cut <unk> in half without any justification manila was <unk> watching washington's moves to cut domestic support prices to 12 cents a pound from 18 cents the u s agriculture department last december slashed its 12 month 1987 sugar import quota from the philippines to 143 780 short tons from 231 660 short tons in 1986 yulo said despite next year's increased production target some philippine mills were expected to shut down at least four of the 41 mills were not working during the 1986 87 season he said we expect two or three more to follow suit during the next season reuter 3\",\n",
              " \"<sos> the agriculture department's widening of louisiana gulf differentials will affect county posted prices for number two yellow corn in ten states a usda official said all counties in iowa will be affected as will counties which use the gulf to price corn in illinois indiana tennessee kentucky missouri mississippi arkansas alabama and louisiana said <unk> <unk> deputy director of commodity operations division for the usda usda last night notified the grain industry that effective immediately all gulf differentials used to price interior corn would be widened on a sliding scale basis of four to eight cts depending on what the differential is usda's action was taken to lower excessively high posted county prices for corn caused by high gulf prices we've been following this louisiana gulf situation for a month and we don't think it's going to get back in line in any nearby time <unk> said <unk> said usda will probably narrow back the gulf differentials when and if gulf prices <unk> if we're off the mark now because we're too high wouldn't we be as much off the mark if we're too low he said while forecasting more adjustments if gulf prices fall <unk> said no other changes in usda's price system are being planned right now we don't tinker we don't make changes <unk> and we don't make changes often he said reuter 3\",\n",
              " '<sos> <unk> <unk> oil and gas partnership said it completed the sale of interests in two major oil and gas fields to lt energy assets international corp for 21 mln dlrs the company said it sold about one half of its 50 pct interest in the oak hill and north <unk> fields its two largest producing properties it said it used about 20 mln dlrs of the proceeds to <unk> principal on its senior secured notes semi annual principal payments on the remaining 40 mln dlrs of notes have been satisfied until december 1988 as a result it said the company said the note agreements were amended to reflect an easing of some financial covenants and an increase of interest to 13 5 pct from 13 0 pct until december 1990 it said the <unk> exercise price for 1 125 000 warrants was also reduced to 50 cts from 1 50 dlrs the company said energy assets agreed to share the costs of increasing production at the oak hill field reuter 3',\n",
              " '<sos> strong south <unk> winds were keeping many vessels trapped in the ice off the finnish and swedish coasts in one of the worst icy periods in the baltic for many years the finnish board of navigation said in finland and sweden up to 50 vessels were reported to be stuck in the ice and even the largest of the <unk> <unk> were having difficulties in breaking through to the <unk> ships <unk> officials said however icy conditions in the southern baltic at the soviet oil ports of <unk> and <unk> had eased they said weather officials in neighbouring sweden said the icy conditions in the baltic were the worst for 30 years with ships fighting a losing battle to keep moving in the coastal stretches of the gulf of <unk> which <unk> finland and sweden the ice is up to one <unk> thick with <unk> and <unk> packing it into almost <unk> walls three metres high swedish <unk> officials said weather forecasts say winds may ease during the weekend but a further drop in temperature could bring shipping to a standstill the officials said reuter 3']"
            ]
          },
          "metadata": {},
          "execution_count": 22
        }
      ]
    },
    {
      "cell_type": "markdown",
      "source": [
        "### 3. 백터화"
      ],
      "metadata": {
        "id": "Cipoga6sQlDF"
      }
    },
    {
      "cell_type": "code",
      "source": [
        "from sklearn.feature_extraction.text import CountVectorizer\n",
        "from sklearn.feature_extraction.text import TfidfTransformer"
      ],
      "metadata": {
        "id": "vhEBigPOQ7tt"
      },
      "execution_count": 23,
      "outputs": []
    },
    {
      "cell_type": "markdown",
      "source": [
        "- 참조\n",
        "> 텍스트 데이터가 있을 때, 모델의 입력으로 넣기 위해서는 우선 각 문서를 벡터화할 필요가 있습니다. 항상 그런 것은 아니지만, 일반적으로 텍스트 분류를 할 모델로 인공 신경망을 사용하는 경우, 벡터화 방법 또한 인공 신경망을 사용하는 것이 보편적입니다. Word Embedding, Document Embedding, Contextual Embedding 등의 다양한 벡터화 방법이 존재하는데요.\n",
        ">\n",
        ">이번 실습에서는 딥러닝이 아닌 머신러닝 방법을 사용하여 텍스트 분류를 진행할 예정이기 때문에 벡터화 방법도 인공 신경망이 아닌 방법을 사용하겠습니다. 저희가 사용할 벡터화 방법은 Bag of Words 가설을 기반으로 하는 DTM, TF-IDF 행렬입니다.\n",
        ">\n",
        ">Bag of Words 가설과 이를 통해 만드는 DTM에 대한 정의는 아래의 링크를 통해 알아보겠습니다.\n",
        ">\n",
        ">>https://wikidocs.net/24559"
      ],
      "metadata": {
        "id": "LJ8fMT40RFFY"
      }
    },
    {
      "cell_type": "code",
      "source": [
        "#사이킷런을 통한 DTM 생성\n",
        "# + 크기확인\n",
        "dtmvector = CountVectorizer()\n",
        "x_train_dtm = dtmvector.fit_transform(x_train)\n",
        "print(x_train_dtm.shape)"
      ],
      "metadata": {
        "id": "Go6H3qmxRUZa",
        "colab": {
          "base_uri": "https://localhost:8080/"
        },
        "outputId": "dc4a7d0d-d4b8-4a7a-ae37-e8a269226bc3"
      },
      "execution_count": 24,
      "outputs": [
        {
          "output_type": "stream",
          "name": "stdout",
          "text": [
            "(8982, 9670)\n"
          ]
        }
      ]
    },
    {
      "cell_type": "markdown",
      "source": [
        "- num_words의 갯수인 10000개보다 DTM열의 갯수가 적은 이유는 처리 과정에서 추가적 정제가 발생하기 때문이다."
      ],
      "metadata": {
        "id": "V4NFPa72SQCy"
      }
    },
    {
      "cell_type": "code",
      "source": [
        "tfidf_transformer = TfidfTransformer()\n",
        "tfidfv = tfidf_transformer.fit_transform(x_train_dtm)\n",
        "print(tfidfv.shape)"
      ],
      "metadata": {
        "id": "aDkpZN9gS2cl",
        "colab": {
          "base_uri": "https://localhost:8080/"
        },
        "outputId": "f365efa4-4074-4938-b0cb-c3ae5e9ee421"
      },
      "execution_count": 25,
      "outputs": [
        {
          "output_type": "stream",
          "name": "stdout",
          "text": [
            "(8982, 9670)\n"
          ]
        }
      ]
    },
    {
      "cell_type": "markdown",
      "source": [
        "- 이 케이스에서 추가적 전처리가 없다면 TF-IDF는 DTM과 동일한 크기를 갖는다."
      ],
      "metadata": {
        "id": "lo3AXA5jS9KF"
      }
    },
    {
      "cell_type": "markdown",
      "source": [
        "### 4. 나이브 베이즈 분류기"
      ],
      "metadata": {
        "id": "8EmYdjjsTDHO"
      }
    },
    {
      "cell_type": "code",
      "source": [
        "from sklearn.naive_bayes import MultinomialNB #다항분포 나이브 베이즈 모델\n",
        "from sklearn.linear_model import LogisticRegression, SGDClassifier\n",
        "from sklearn.naive_bayes import ComplementNB\n",
        "from sklearn.tree import DecisionTreeClassifier\n",
        "from sklearn.ensemble import RandomForestClassifier\n",
        "from sklearn.ensemble import GradientBoostingClassifier\n",
        "from sklearn.ensemble import VotingClassifier\n",
        "from sklearn.svm import LinearSVC\n",
        "from sklearn.metrics import accuracy_score #정확도 계산"
      ],
      "metadata": {
        "id": "WnB3vFtNTJKn"
      },
      "execution_count": 26,
      "outputs": []
    },
    {
      "cell_type": "code",
      "source": [
        "model = MultinomialNB()\n",
        "model.fit(tfidfv, y_train)"
      ],
      "metadata": {
        "id": "JbkRKVJE34t6",
        "colab": {
          "base_uri": "https://localhost:8080/"
        },
        "outputId": "bd8c14e0-a8e0-44c6-918a-915431844854"
      },
      "execution_count": 27,
      "outputs": [
        {
          "output_type": "execute_result",
          "data": {
            "text/plain": [
              "MultinomialNB()"
            ]
          },
          "metadata": {},
          "execution_count": 27
        }
      ]
    },
    {
      "cell_type": "code",
      "source": [
        "x_test_dtm = dtmvector.transform(x_test) #테스트 데이터를 DTM으로 변환\n",
        "tfidfv_test = tfidf_transformer.transform(x_test_dtm) #DTM을 TF-IDF 행렬로 변환\n",
        "\n",
        "predicted = model.predict(tfidfv_test) #테스트 데이터에 대한 예측\n",
        "print(\"정확도:\", accuracy_score(y_test, predicted)) #예측값과 실제값 비교"
      ],
      "metadata": {
        "id": "1T_6s1-iTKa8",
        "colab": {
          "base_uri": "https://localhost:8080/"
        },
        "outputId": "983b3a54-73d9-4c49-8436-102e6b089f04"
      },
      "execution_count": 28,
      "outputs": [
        {
          "output_type": "stream",
          "name": "stdout",
          "text": [
            "정확도: 0.6567230632235085\n"
          ]
        }
      ]
    },
    {
      "cell_type": "code",
      "source": [
        "x_test[3]"
      ],
      "metadata": {
        "id": "G0uekH6KrHwN",
        "colab": {
          "base_uri": "https://localhost:8080/",
          "height": 163
        },
        "outputId": "67f24cee-2424-439d-fca3-a66d369f8d0b"
      },
      "execution_count": 29,
      "outputs": [
        {
          "output_type": "execute_result",
          "data": {
            "text/plain": [
              "'<sos> <unk> <unk> oil and gas partnership said it completed the sale of interests in two major oil and gas fields to lt energy assets international corp for 21 mln dlrs the company said it sold about one half of its 50 pct interest in the oak hill and north <unk> fields its two largest producing properties it said it used about 20 mln dlrs of the proceeds to <unk> principal on its senior secured notes semi annual principal payments on the remaining 40 mln dlrs of notes have been satisfied until december 1988 as a result it said the company said the note agreements were amended to reflect an easing of some financial covenants and an increase of interest to 13 5 pct from 13 0 pct until december 1990 it said the <unk> exercise price for 1 125 000 warrants was also reduced to 50 cts from 1 50 dlrs the company said energy assets agreed to share the costs of increasing production at the oak hill field reuter 3'"
            ],
            "application/vnd.google.colaboratory.intrinsic+json": {
              "type": "string"
            }
          },
          "metadata": {},
          "execution_count": 29
        }
      ]
    },
    {
      "cell_type": "code",
      "source": [
        "y_test[3]"
      ],
      "metadata": {
        "colab": {
          "base_uri": "https://localhost:8080/"
        },
        "id": "l-pL-f3rwaYc",
        "outputId": "dcff63b9-150e-425c-c3ee-f551c42fd6a7"
      },
      "execution_count": 30,
      "outputs": [
        {
          "output_type": "execute_result",
          "data": {
            "text/plain": [
              "4"
            ]
          },
          "metadata": {},
          "execution_count": 30
        }
      ]
    },
    {
      "cell_type": "code",
      "source": [
        "probability_3 = model.predict_proba(tfidfv_test[3])[0]\n",
        "\n",
        "plt.rcParams[\"figure.figsize\"] = (11,5)\n",
        "plt.bar(model.classes_, probability_3)\n",
        "plt.xlim(-1, 21)\n",
        "plt.xticks(model.classes_)\n",
        "plt.xlabel(\"Class\")\n",
        "plt.ylabel(\"Probability\")\n",
        "plt.show()"
      ],
      "metadata": {
        "colab": {
          "base_uri": "https://localhost:8080/",
          "height": 334
        },
        "id": "a0BOJRgxwbTr",
        "outputId": "67141cd9-2c13-4832-d1a0-eed4ffcb30ed"
      },
      "execution_count": 31,
      "outputs": [
        {
          "output_type": "display_data",
          "data": {
            "text/plain": [
              "<Figure size 792x360 with 1 Axes>"
            ],
            "image/png": "[encoded data removed]"
          },
          "metadata": {}
        }
      ]
    },
    {
      "cell_type": "code",
      "source": [
        "model.predict(tfidfv_test[3])"
      ],
      "metadata": {
        "colab": {
          "base_uri": "https://localhost:8080/"
        },
        "id": "O-nr0lCqwcWQ",
        "outputId": "495001d7-1d94-481b-e35c-794cd7e4153d"
      },
      "execution_count": 32,
      "outputs": [
        {
          "output_type": "execute_result",
          "data": {
            "text/plain": [
              "array([4])"
            ]
          },
          "metadata": {},
          "execution_count": 32
        }
      ]
    },
    {
      "cell_type": "markdown",
      "source": [
        "### 5. F1_Score. Confusion Matrix"
      ],
      "metadata": {
        "id": "RFFSeXK0w2d5"
      }
    },
    {
      "cell_type": "code",
      "source": [
        "from sklearn.metrics import classification_report\n",
        "from sklearn.metrics import confusion_matrix"
      ],
      "metadata": {
        "id": "oSxWY52Rw9II"
      },
      "execution_count": 33,
      "outputs": []
    },
    {
      "cell_type": "code",
      "source": [
        "print(classification_report(y_test, model.predict(tfidfv_test), zero_division=0))"
      ],
      "metadata": {
        "colab": {
          "base_uri": "https://localhost:8080/"
        },
        "id": "K6yUeXoUw-tz",
        "outputId": "98eb97ae-ba8f-4ba6-dfcb-82890a443e7a"
      },
      "execution_count": 34,
      "outputs": [
        {
          "output_type": "stream",
          "name": "stdout",
          "text": [
            "              precision    recall  f1-score   support\n",
            "\n",
            "           0       0.00      0.00      0.00        12\n",
            "           1       0.62      0.69      0.65       105\n",
            "           2       0.00      0.00      0.00        20\n",
            "           3       0.81      0.90      0.85       813\n",
            "           4       0.51      0.96      0.67       474\n",
            "           5       0.00      0.00      0.00         5\n",
            "           6       0.00      0.00      0.00        14\n",
            "           7       0.00      0.00      0.00         3\n",
            "           8       0.00      0.00      0.00        38\n",
            "           9       1.00      0.08      0.15        25\n",
            "          10       0.00      0.00      0.00        30\n",
            "          11       0.66      0.63      0.64        83\n",
            "          12       0.00      0.00      0.00        13\n",
            "          13       1.00      0.03      0.05        37\n",
            "          14       0.00      0.00      0.00         2\n",
            "          15       0.00      0.00      0.00         9\n",
            "          16       0.69      0.56      0.61        99\n",
            "          17       0.00      0.00      0.00        12\n",
            "          18       0.00      0.00      0.00        20\n",
            "          19       0.60      0.78      0.68       133\n",
            "          20       1.00      0.04      0.08        70\n",
            "          21       0.00      0.00      0.00        27\n",
            "          22       0.00      0.00      0.00         7\n",
            "          23       0.00      0.00      0.00        12\n",
            "          24       0.00      0.00      0.00        19\n",
            "          25       1.00      0.03      0.06        31\n",
            "          26       0.00      0.00      0.00         8\n",
            "          27       0.00      0.00      0.00         4\n",
            "          28       0.00      0.00      0.00        10\n",
            "          29       0.00      0.00      0.00         4\n",
            "          30       0.00      0.00      0.00        12\n",
            "          31       0.00      0.00      0.00        13\n",
            "          32       0.00      0.00      0.00        10\n",
            "          33       0.00      0.00      0.00         5\n",
            "          34       0.00      0.00      0.00         7\n",
            "          35       0.00      0.00      0.00         6\n",
            "          36       0.00      0.00      0.00        11\n",
            "          37       0.00      0.00      0.00         2\n",
            "          38       0.00      0.00      0.00         3\n",
            "          39       0.00      0.00      0.00         5\n",
            "          40       0.00      0.00      0.00        10\n",
            "          41       0.00      0.00      0.00         8\n",
            "          42       0.00      0.00      0.00         3\n",
            "          43       0.00      0.00      0.00         6\n",
            "          44       0.00      0.00      0.00         5\n",
            "          45       0.00      0.00      0.00         1\n",
            "\n",
            "    accuracy                           0.66      2246\n",
            "   macro avg       0.17      0.10      0.10      2246\n",
            "weighted avg       0.59      0.66      0.58      2246\n",
            "\n"
          ]
        }
      ]
    },
    {
      "cell_type": "code",
      "source": [
        "def graph_confusion_matrix(model, x_test, y_test):#, classes_name):\n",
        "  df_cm = pd.DataFrame(confusion_matrix(y_test, model.predict(x_test)))#, index=classes_name, columns=classes_name)\n",
        "  fig = plt.figure(figsize=(12,12))\n",
        "  heatmap = sns.heatmap(df_cm, annot=True, fmt=\"d\")\n",
        "  heatmap.yaxis.set_ticklabels(heatmap.yaxis.get_ticklabels(), rotation=0, ha='right', fontsize=12)\n",
        "  heatmap.xaxis.set_ticklabels(heatmap.xaxis.get_ticklabels(), rotation=45, ha='right', fontsize=12)\n",
        "  plt.ylabel('label')\n",
        "  plt.xlabel('predicted value')\n",
        "\n",
        "print('=3')"
      ],
      "metadata": {
        "colab": {
          "base_uri": "https://localhost:8080/"
        },
        "id": "Xnt_0AVExAqg",
        "outputId": "8ccb3a88-1011-450d-cd17-7823f29c0f6f"
      },
      "execution_count": 35,
      "outputs": [
        {
          "output_type": "stream",
          "name": "stdout",
          "text": [
            "=3\n"
          ]
        }
      ]
    },
    {
      "cell_type": "code",
      "source": [
        "graph_confusion_matrix(model, tfidfv_test, y_test)"
      ],
      "metadata": {
        "colab": {
          "base_uri": "https://localhost:8080/",
          "height": 724
        },
        "id": "bOmyDMalxC10",
        "outputId": "8bb1443a-a496-45da-ebe4-f75fc9bedac2"
      },
      "execution_count": 36,
      "outputs": [
        {
          "output_type": "display_data",
          "data": {
            "text/plain": [
              "<Figure size 864x864 with 2 Axes>"
            ],
            "image/png": "[encoded data removed]"
          },
          "metadata": {}
        }
      ]
    },
    {
      "cell_type": "markdown",
      "source": [
        "### 6. 다양한 모델 사용해보기"
      ],
      "metadata": {
        "id": "nHHJgmAWxEej"
      }
    },
    {
      "cell_type": "markdown",
      "source": [
        "#### 6.1. Complement Naive Bayes Classifier(CNB)\n"
      ],
      "metadata": {
        "id": "hQB7_WlxxNr4"
      }
    },
    {
      "cell_type": "code",
      "source": [
        "cb = ComplementNB()\n",
        "cb.fit(tfidfv, y_train)"
      ],
      "metadata": {
        "colab": {
          "base_uri": "https://localhost:8080/"
        },
        "id": "sXZcU1CtxRg2",
        "outputId": "7108e6da-9846-4cc6-862e-ad21d79287ab"
      },
      "execution_count": 37,
      "outputs": [
        {
          "output_type": "execute_result",
          "data": {
            "text/plain": [
              "ComplementNB()"
            ]
          },
          "metadata": {},
          "execution_count": 37
        }
      ]
    },
    {
      "cell_type": "code",
      "source": [
        "predicted = cb.predict(tfidfv_test) #테스트 데이터에 대한 예측\n",
        "print(\"정확도:\", accuracy_score(y_test, predicted)) #예측값과 실제값 비교"
      ],
      "metadata": {
        "colab": {
          "base_uri": "https://localhost:8080/"
        },
        "id": "3W7DNz3wxSUm",
        "outputId": "81730f86-247e-46de-f679-2c2bf27f966b"
      },
      "execution_count": 38,
      "outputs": [
        {
          "output_type": "stream",
          "name": "stdout",
          "text": [
            "정확도: 0.7707034728406055\n"
          ]
        }
      ]
    },
    {
      "cell_type": "markdown",
      "source": [
        "#### 6.2. 로지스틱 회귀"
      ],
      "metadata": {
        "id": "vh4BcAvfxTM0"
      }
    },
    {
      "cell_type": "code",
      "source": [
        "lr = LogisticRegression(C=10000, penalty='l2')\n",
        "lr.fit(tfidfv, y_train)"
      ],
      "metadata": {
        "colab": {
          "base_uri": "https://localhost:8080/"
        },
        "id": "jrO2tpIExWaZ",
        "outputId": "6ac49a98-81f0-4da4-ba7a-0fb1c2a7ac7d"
      },
      "execution_count": 39,
      "outputs": [
        {
          "output_type": "stream",
          "name": "stderr",
          "text": [
            "/usr/local/lib/python3.7/dist-packages/sklearn/linear_model/_logistic.py:818: ConvergenceWarning: lbfgs failed to converge (status=1):\n",
            "STOP: TOTAL NO. of ITERATIONS REACHED LIMIT.\n",
            "\n",
            "Increase the number of iterations (max_iter) or scale the data as shown in:\n",
            "    https://scikit-learn.org/stable/modules/preprocessing.html\n",
            "Please also refer to the documentation for alternative solver options:\n",
            "    https://scikit-learn.org/stable/modules/linear_model.html#logistic-regression\n",
            "  extra_warning_msg=_LOGISTIC_SOLVER_CONVERGENCE_MSG,\n"
          ]
        },
        {
          "output_type": "execute_result",
          "data": {
            "text/plain": [
              "LogisticRegression(C=10000)"
            ]
          },
          "metadata": {},
          "execution_count": 39
        }
      ]
    },
    {
      "cell_type": "code",
      "source": [
        "predicted = lr.predict(tfidfv_test) #테스트 데이터에 대한 예측\n",
        "print(\"정확도:\", accuracy_score(y_test, predicted)) #예측값과 실제값 비교"
      ],
      "metadata": {
        "colab": {
          "base_uri": "https://localhost:8080/"
        },
        "id": "Q9ibOEWVxXYL",
        "outputId": "d66cfda8-382f-40a3-987d-fddaa7b220ba"
      },
      "execution_count": 40,
      "outputs": [
        {
          "output_type": "stream",
          "name": "stdout",
          "text": [
            "정확도: 0.8076580587711487\n"
          ]
        }
      ]
    },
    {
      "cell_type": "markdown",
      "source": [
        "#### 6.3. 선형 SVM"
      ],
      "metadata": {
        "id": "NoBKbnRJxZGb"
      }
    },
    {
      "cell_type": "code",
      "source": [
        "lsvc = LinearSVC(C=1000, penalty='l1', max_iter=500, dual=False)\n",
        "lsvc.fit(tfidfv, y_train)"
      ],
      "metadata": {
        "colab": {
          "base_uri": "https://localhost:8080/"
        },
        "id": "rix3vrmJxc5k",
        "outputId": "4cef498d-582a-4e68-bd6b-cf303e2fb1fa"
      },
      "execution_count": 41,
      "outputs": [
        {
          "output_type": "stream",
          "name": "stderr",
          "text": [
            "/usr/local/lib/python3.7/dist-packages/sklearn/svm/_base.py:1208: ConvergenceWarning: Liblinear failed to converge, increase the number of iterations.\n",
            "  ConvergenceWarning,\n"
          ]
        },
        {
          "output_type": "execute_result",
          "data": {
            "text/plain": [
              "LinearSVC(C=1000, dual=False, max_iter=500, penalty='l1')"
            ]
          },
          "metadata": {},
          "execution_count": 41
        }
      ]
    },
    {
      "cell_type": "code",
      "source": [
        "predicted = lsvc.predict(tfidfv_test) #테스트 데이터에 대한 예측\n",
        "print(\"정확도:\", accuracy_score(y_test, predicted)) #예측값과 실제값 비교"
      ],
      "metadata": {
        "colab": {
          "base_uri": "https://localhost:8080/"
        },
        "id": "y3oi35DHxeoe",
        "outputId": "76d9cf96-9f52-4fc1-b7b5-9536199c8100"
      },
      "execution_count": 42,
      "outputs": [
        {
          "output_type": "stream",
          "name": "stdout",
          "text": [
            "정확도: 0.7715939447907391\n"
          ]
        }
      ]
    },
    {
      "cell_type": "markdown",
      "source": [
        "#### 6.4. 결정 나무"
      ],
      "metadata": {
        "id": "dvOlqQZzxfqb"
      }
    },
    {
      "cell_type": "code",
      "source": [
        "tree = DecisionTreeClassifier(max_depth=10, random_state=0)\n",
        "tree.fit(tfidfv, y_train)"
      ],
      "metadata": {
        "colab": {
          "base_uri": "https://localhost:8080/"
        },
        "id": "FNQ9fs6Jxkhk",
        "outputId": "c7681c46-4006-4d9c-c6ce-085b591997c9"
      },
      "execution_count": 43,
      "outputs": [
        {
          "output_type": "execute_result",
          "data": {
            "text/plain": [
              "DecisionTreeClassifier(max_depth=10, random_state=0)"
            ]
          },
          "metadata": {},
          "execution_count": 43
        }
      ]
    },
    {
      "cell_type": "code",
      "source": [
        "predicted = tree.predict(tfidfv_test) #테스트 데이터에 대한 예측\n",
        "print(\"정확도:\", accuracy_score(y_test, predicted)) #예측값과 실제값 비교"
      ],
      "metadata": {
        "colab": {
          "base_uri": "https://localhost:8080/"
        },
        "id": "rgHcR6Tixll9",
        "outputId": "7d744770-ae54-41f6-bc53-92bda2e4c107"
      },
      "execution_count": 44,
      "outputs": [
        {
          "output_type": "stream",
          "name": "stdout",
          "text": [
            "정확도: 0.6202137132680321\n"
          ]
        }
      ]
    },
    {
      "cell_type": "markdown",
      "source": [
        "#### 6.5. 랜덤 포레스트"
      ],
      "metadata": {
        "id": "SVbYHDL8xmVa"
      }
    },
    {
      "cell_type": "code",
      "source": [
        "forest = RandomForestClassifier(n_estimators=5, random_state=0)\n",
        "forest.fit(tfidfv, y_train)"
      ],
      "metadata": {
        "colab": {
          "base_uri": "https://localhost:8080/"
        },
        "id": "Yf_DT5aRxon5",
        "outputId": "601644a7-4d18-42ac-d13b-b59ba5d69cff"
      },
      "execution_count": 45,
      "outputs": [
        {
          "output_type": "execute_result",
          "data": {
            "text/plain": [
              "RandomForestClassifier(n_estimators=5, random_state=0)"
            ]
          },
          "metadata": {},
          "execution_count": 45
        }
      ]
    },
    {
      "cell_type": "code",
      "source": [
        "predicted = forest.predict(tfidfv_test) #테스트 데이터에 대한 예측\n",
        "print(\"정확도:\", accuracy_score(y_test, predicted)) #예측값과 실제값 비교"
      ],
      "metadata": {
        "colab": {
          "base_uri": "https://localhost:8080/"
        },
        "id": "_Vsz46g2xqsY",
        "outputId": "e1b22a9b-aceb-4d87-a737-f482fdf666a4"
      },
      "execution_count": 46,
      "outputs": [
        {
          "output_type": "stream",
          "name": "stdout",
          "text": [
            "정확도: 0.674087266251113\n"
          ]
        }
      ]
    },
    {
      "cell_type": "markdown",
      "source": [
        "#### 6.6. 그래디언트 부스팅 트리(GradientBoostingClassifier)\n",
        "\n",
        "- 여러개의 결정나무를 묶어서 앙상블\n",
        "- 랜덤 포레스트와는 달리 이전 트리의 오차를 보완하는 방식으로, 순차적으로 형성"
      ],
      "metadata": {
        "id": "CZIeugLqxrk7"
      }
    },
    {
      "cell_type": "code",
      "source": [
        "grbt = GradientBoostingClassifier(random_state=0) # verbose=3\n",
        "grbt.fit(tfidfv, y_train)"
      ],
      "metadata": {
        "colab": {
          "base_uri": "https://localhost:8080/"
        },
        "id": "z4FfAeygx3nL",
        "outputId": "93d45a1f-be8a-42b0-ca29-8c0367383aa1"
      },
      "execution_count": 47,
      "outputs": [
        {
          "output_type": "execute_result",
          "data": {
            "text/plain": [
              "GradientBoostingClassifier(random_state=0)"
            ]
          },
          "metadata": {},
          "execution_count": 47
        }
      ]
    },
    {
      "cell_type": "code",
      "source": [
        "predicted = grbt.predict(tfidfv_test) #테스트 데이터에 대한 예측\n",
        "print(\"정확도:\", accuracy_score(y_test, predicted)) #예측값과 실제값 비교"
      ],
      "metadata": {
        "colab": {
          "base_uri": "https://localhost:8080/"
        },
        "id": "ZhM40Y0wx5jN",
        "outputId": "c2e833de-ba5a-4b71-b13b-6cb4f09a5426"
      },
      "execution_count": 48,
      "outputs": [
        {
          "output_type": "stream",
          "name": "stdout",
          "text": [
            "정확도: 0.7662511130899377\n"
          ]
        }
      ]
    },
    {
      "cell_type": "markdown",
      "source": [
        "#### 6.7. 보팅(Voting)\n",
        "\n",
        "- 로지스티고히귀, CNB, 그레디언트부스팅트리를 사용하고 소프트보팅\n",
        "- 소프트보팅은 결과물이 나올 확률값을 가중치처럼 사용해 최종 값을 도출하는 투표 방법이다."
      ],
      "metadata": {
        "id": "2XjgDTxMx6n-"
      }
    },
    {
      "cell_type": "code",
      "source": [
        "voting_classifier = VotingClassifier(estimators=[\n",
        "         ('lr', LogisticRegression(C=10000, penalty='l2')),\n",
        "        ('cb', ComplementNB()),\n",
        "        ('grbt', GradientBoostingClassifier(random_state=0))\n",
        "], voting='soft', n_jobs=-1)\n",
        "voting_classifier.fit(tfidfv, y_train)"
      ],
      "metadata": {
        "colab": {
          "base_uri": "https://localhost:8080/"
        },
        "id": "Pp7hfW_xx934",
        "outputId": "e6773a64-878d-4c11-96a8-a12334f7875f"
      },
      "execution_count": 49,
      "outputs": [
        {
          "output_type": "execute_result",
          "data": {
            "text/plain": [
              "VotingClassifier(estimators=[('lr', LogisticRegression(C=10000)),\n",
              "                             ('cb', ComplementNB()),\n",
              "                             ('grbt',\n",
              "                              GradientBoostingClassifier(random_state=0))],\n",
              "                 n_jobs=-1, voting='soft')"
            ]
          },
          "metadata": {},
          "execution_count": 49
        }
      ]
    },
    {
      "cell_type": "code",
      "source": [
        "predicted = voting_classifier.predict(tfidfv_test) #테스트 데이터에 대한 예측\n",
        "print(\"정확도:\", accuracy_score(y_test, predicted)) #예측값과 실제값 비교"
      ],
      "metadata": {
        "colab": {
          "base_uri": "https://localhost:8080/"
        },
        "id": "UMijdBbCyUW2",
        "outputId": "137c9a75-0a59-4a89-b982-a6a23f8e64c3"
      },
      "execution_count": 50,
      "outputs": [
        {
          "output_type": "stream",
          "name": "stdout",
          "text": [
            "정확도: 0.8116651825467498\n"
          ]
        }
      ]
    },
    {
      "cell_type": "markdown",
      "source": [
        "## 프로젝트 : Vocabulary Size를 변경해서 시도해보기\n",
        "\n",
        "\\+ 딥러닝 모델과 비교해보기"
      ],
      "metadata": {
        "id": "eDu0HZdDyU-m"
      }
    },
    {
      "cell_type": "markdown",
      "source": [
        "### 0. 라이브러리 버전 확인"
      ],
      "metadata": {
        "id": "_nHAsKg2ysZ5"
      }
    },
    {
      "cell_type": "code",
      "source": [
        "import tensorflow\n",
        "import matplotlib\n",
        "import seaborn \n",
        "import numpy \n",
        "import pandas\n",
        "import sklearn\n",
        "\n",
        "print(tensorflow.__version__)\n",
        "print(matplotlib.__version__)\n",
        "print(seaborn.__version__)\n",
        "print(numpy.__version__)\n",
        "print(pandas.__version__)\n",
        "print(sklearn.__version__)"
      ],
      "metadata": {
        "colab": {
          "base_uri": "https://localhost:8080/"
        },
        "id": "OkQZjETy5Ht-",
        "outputId": "0437cf00-99b8-4dbc-e190-5bc146c4f8b2"
      },
      "execution_count": 51,
      "outputs": [
        {
          "output_type": "stream",
          "name": "stdout",
          "text": [
            "2.8.0\n",
            "3.2.2\n",
            "0.11.2\n",
            "1.21.5\n",
            "1.3.5\n",
            "1.0.2\n"
          ]
        }
      ]
    },
    {
      "cell_type": "markdown",
      "source": [
        "### 1. 단어수와 모델별 지표의 관계 파악\n",
        "\n",
        "- 모든 단어 사용 vs 빈도수 상위 5000개 단어 사용\n",
        "    > 각각의 경우에 대해 앞서 모델들의 지표를 비교해본다."
      ],
      "metadata": {
        "id": "lHXUpEoc5H5F"
      }
    },
    {
      "cell_type": "markdown",
      "source": [
        "- 앞서 과정을 모아 TF-IDF 행렬을 생성하는 함수를 정의"
      ],
      "metadata": {
        "id": "wcKcTWKJI3Ke"
      }
    },
    {
      "cell_type": "code",
      "source": [
        "def get_tfidf(n_vocb):\n",
        "\n",
        "    (x_train, y_train), (x_test, y_test) = reuters.load_data(num_words=n_vocb, test_split=0.2)\n",
        "\n",
        "    decoded = []\n",
        "    for i in range(len(x_train)):\n",
        "        t = ' '.join([index_to_word[index] for index in x_train[i]])\n",
        "        decoded.append(t)\n",
        "    x_train = decoded\n",
        "\n",
        "    decoded = []\n",
        "    for i in range(len(x_test)):\n",
        "        t = ' '.join([index_to_word[index] for index in x_test[i]])\n",
        "        decoded.append(t)\n",
        "    x_test = decoded\n",
        "\n",
        "    dtmvector = CountVectorizer()\n",
        "    x_train_dtm = dtmvector.fit_transform(x_train)\n",
        "\n",
        "    tfidf_transformer = TfidfTransformer()\n",
        "    tfidfv = tfidf_transformer.fit_transform(x_train_dtm)\n",
        "\n",
        "    x_test_dtm = dtmvector.transform(x_test) \n",
        "    tfidfv_test = tfidf_transformer.transform(x_test_dtm)\n",
        "\n",
        "    return tfidfv, y_train, tfidfv_test, y_test"
      ],
      "metadata": {
        "id": "yUJo-WKtJVTK"
      },
      "execution_count": 74,
      "outputs": []
    },
    {
      "cell_type": "markdown",
      "source": [
        "#### 1.1. Complement Naive Bayes Classifier(CNB)\n"
      ],
      "metadata": {
        "id": "6kcswNxe6gYT"
      }
    },
    {
      "cell_type": "markdown",
      "source": [
        "- 모든 단어"
      ],
      "metadata": {
        "id": "bPiviSXp6nPp"
      }
    },
    {
      "cell_type": "code",
      "source": [
        "tfidfv, y_train, tfidfv_test, y_test = get_tfidf(n_vocb=None)"
      ],
      "metadata": {
        "id": "5aIRAVmaSlRt"
      },
      "execution_count": 75,
      "outputs": []
    },
    {
      "cell_type": "code",
      "source": [
        "cb = ComplementNB()\n",
        "cb.fit(tfidfv, y_train)"
      ],
      "metadata": {
        "colab": {
          "base_uri": "https://localhost:8080/"
        },
        "outputId": "b1fb7f5b-d1fc-4494-ab66-311ef1af1c64",
        "id": "IwJJQyeq6gYT"
      },
      "execution_count": 76,
      "outputs": [
        {
          "output_type": "execute_result",
          "data": {
            "text/plain": [
              "ComplementNB()"
            ]
          },
          "metadata": {},
          "execution_count": 76
        }
      ]
    },
    {
      "cell_type": "code",
      "source": [
        "predicted = cb.predict(tfidfv_test) #테스트 데이터에 대한 예측\n",
        "print(\"정확도:\", accuracy_score(y_test, predicted)) #예측값과 실제값 비교"
      ],
      "metadata": {
        "colab": {
          "base_uri": "https://localhost:8080/"
        },
        "outputId": "898b1416-e4d8-4e7b-cf54-1f3579f1461f",
        "id": "MQgOk5E76gYU"
      },
      "execution_count": 77,
      "outputs": [
        {
          "output_type": "stream",
          "name": "stdout",
          "text": [
            "정확도: 0.7649154051647373\n"
          ]
        }
      ]
    },
    {
      "cell_type": "markdown",
      "source": [
        "- 5000 단어"
      ],
      "metadata": {
        "id": "ZtEkBLrYTekI"
      }
    },
    {
      "cell_type": "code",
      "source": [
        "tfidfv, y_train, tfidfv_test, y_test = get_tfidf(n_vocb=5000)"
      ],
      "metadata": {
        "id": "AmbBh4jgThrQ"
      },
      "execution_count": 78,
      "outputs": []
    },
    {
      "cell_type": "code",
      "source": [
        "cb = ComplementNB()\n",
        "cb.fit(tfidfv, y_train)\n",
        "predicted = cb.predict(tfidfv_test) #테스트 데이터에 대한 예측\n",
        "print(\"정확도:\", accuracy_score(y_test, predicted)) #예측값과 실제값 비교"
      ],
      "metadata": {
        "colab": {
          "base_uri": "https://localhost:8080/"
        },
        "id": "J7Gsd2s_Tl-V",
        "outputId": "773ec1e8-0361-4e53-964a-8e8378bd28cc"
      },
      "execution_count": 79,
      "outputs": [
        {
          "output_type": "stream",
          "name": "stdout",
          "text": [
            "정확도: 0.7707034728406055\n"
          ]
        }
      ]
    },
    {
      "cell_type": "markdown",
      "source": [
        "#### 1.2. 로지스틱 회귀"
      ],
      "metadata": {
        "id": "aPCYHJ9I6gYU"
      }
    },
    {
      "cell_type": "markdown",
      "source": [
        "- 모든 단어"
      ],
      "metadata": {
        "id": "zcYhKYgxT_G9"
      }
    },
    {
      "cell_type": "code",
      "source": [
        "tfidfv, y_train, tfidfv_test, y_test = get_tfidf(n_vocb=None)"
      ],
      "metadata": {
        "id": "rGnHziEIUBut"
      },
      "execution_count": 80,
      "outputs": []
    },
    {
      "cell_type": "code",
      "source": [
        "lr = LogisticRegression(C=10000, penalty='l2')\n",
        "lr.fit(tfidfv, y_train)\n",
        "predicted = lr.predict(tfidfv_test) #테스트 데이터에 대한 예측\n",
        "print(\"정확도:\", accuracy_score(y_test, predicted)) #예측값과 실제값 비교"
      ],
      "metadata": {
        "colab": {
          "base_uri": "https://localhost:8080/"
        },
        "outputId": "5a94d93f-5bfc-44f5-f055-2e0766b43205",
        "id": "w7f1ztQ46gYU"
      },
      "execution_count": 81,
      "outputs": [
        {
          "output_type": "stream",
          "name": "stdout",
          "text": [
            "정확도: 0.813446126447017\n"
          ]
        },
        {
          "output_type": "stream",
          "name": "stderr",
          "text": [
            "/usr/local/lib/python3.7/dist-packages/sklearn/linear_model/_logistic.py:818: ConvergenceWarning: lbfgs failed to converge (status=1):\n",
            "STOP: TOTAL NO. of ITERATIONS REACHED LIMIT.\n",
            "\n",
            "Increase the number of iterations (max_iter) or scale the data as shown in:\n",
            "    https://scikit-learn.org/stable/modules/preprocessing.html\n",
            "Please also refer to the documentation for alternative solver options:\n",
            "    https://scikit-learn.org/stable/modules/linear_model.html#logistic-regression\n",
            "  extra_warning_msg=_LOGISTIC_SOLVER_CONVERGENCE_MSG,\n"
          ]
        }
      ]
    },
    {
      "cell_type": "markdown",
      "source": [
        "- 5000 단어"
      ],
      "metadata": {
        "id": "u7UTpm-XUIjQ"
      }
    },
    {
      "cell_type": "code",
      "source": [
        "tfidfv, y_train, tfidfv_test, y_test = get_tfidf(n_vocb=5000)"
      ],
      "metadata": {
        "id": "KWgTHmYjUQUf"
      },
      "execution_count": 82,
      "outputs": []
    },
    {
      "cell_type": "code",
      "source": [
        "lr = LogisticRegression(C=10000, penalty='l2')\n",
        "lr.fit(tfidfv, y_train)\n",
        "predicted = lr.predict(tfidfv_test) #테스트 데이터에 대한 예측\n",
        "print(\"정확도:\", accuracy_score(y_test, predicted)) #예측값과 실제값 비교"
      ],
      "metadata": {
        "colab": {
          "base_uri": "https://localhost:8080/"
        },
        "outputId": "e6a7d2f1-7e4f-42cb-af01-8102ae6baab0",
        "id": "vn8rqW3C6gYU"
      },
      "execution_count": 83,
      "outputs": [
        {
          "output_type": "stream",
          "name": "stdout",
          "text": [
            "정확도: 0.8058771148708815\n"
          ]
        },
        {
          "output_type": "stream",
          "name": "stderr",
          "text": [
            "/usr/local/lib/python3.7/dist-packages/sklearn/linear_model/_logistic.py:818: ConvergenceWarning: lbfgs failed to converge (status=1):\n",
            "STOP: TOTAL NO. of ITERATIONS REACHED LIMIT.\n",
            "\n",
            "Increase the number of iterations (max_iter) or scale the data as shown in:\n",
            "    https://scikit-learn.org/stable/modules/preprocessing.html\n",
            "Please also refer to the documentation for alternative solver options:\n",
            "    https://scikit-learn.org/stable/modules/linear_model.html#logistic-regression\n",
            "  extra_warning_msg=_LOGISTIC_SOLVER_CONVERGENCE_MSG,\n"
          ]
        }
      ]
    },
    {
      "cell_type": "markdown",
      "source": [
        "#### 1.3. 선형 SVM"
      ],
      "metadata": {
        "id": "9kx0qcI_6gYU"
      }
    },
    {
      "cell_type": "markdown",
      "source": [
        "- 모든 단어"
      ],
      "metadata": {
        "id": "1DspUDWAUr9M"
      }
    },
    {
      "cell_type": "code",
      "source": [
        "tfidfv, y_train, tfidfv_test, y_test = get_tfidf(n_vocb=None)"
      ],
      "metadata": {
        "id": "q5IAcKuvVAWE"
      },
      "execution_count": 84,
      "outputs": []
    },
    {
      "cell_type": "code",
      "source": [
        "lsvc = LinearSVC(C=1000, penalty='l1', max_iter=500, dual=False)\n",
        "lsvc.fit(tfidfv, y_train)"
      ],
      "metadata": {
        "colab": {
          "base_uri": "https://localhost:8080/"
        },
        "outputId": "4cdb39fa-13eb-459c-d6d8-d303b5169b26",
        "id": "CPHbzaSA6gYU"
      },
      "execution_count": 85,
      "outputs": [
        {
          "output_type": "stream",
          "name": "stderr",
          "text": [
            "/usr/local/lib/python3.7/dist-packages/sklearn/svm/_base.py:1208: ConvergenceWarning: Liblinear failed to converge, increase the number of iterations.\n",
            "  ConvergenceWarning,\n"
          ]
        },
        {
          "output_type": "execute_result",
          "data": {
            "text/plain": [
              "LinearSVC(C=1000, dual=False, max_iter=500, penalty='l1')"
            ]
          },
          "metadata": {},
          "execution_count": 85
        }
      ]
    },
    {
      "cell_type": "code",
      "source": [
        "predicted = lsvc.predict(tfidfv_test) #테스트 데이터에 대한 예측\n",
        "print(\"정확도:\", accuracy_score(y_test, predicted)) #예측값과 실제값 비교"
      ],
      "metadata": {
        "colab": {
          "base_uri": "https://localhost:8080/"
        },
        "outputId": "eed62c44-ea85-4b24-b31b-90d709481249",
        "id": "hJTYdc016gYW"
      },
      "execution_count": 86,
      "outputs": [
        {
          "output_type": "stream",
          "name": "stdout",
          "text": [
            "정확도: 0.7791629563668745\n"
          ]
        }
      ]
    },
    {
      "cell_type": "markdown",
      "source": [
        "- 5000 단어"
      ],
      "metadata": {
        "id": "K62JQRZiVDjX"
      }
    },
    {
      "cell_type": "code",
      "source": [
        "tfidfv, y_train, tfidfv_test, y_test = get_tfidf(n_vocb=5000)"
      ],
      "metadata": {
        "id": "vAF6kiKdVITW"
      },
      "execution_count": 95,
      "outputs": []
    },
    {
      "cell_type": "code",
      "source": [
        "lsvc = LinearSVC(C=1000, penalty='l1', max_iter=500, dual=False)\n",
        "lsvc.fit(tfidfv, y_train)"
      ],
      "metadata": {
        "colab": {
          "base_uri": "https://localhost:8080/"
        },
        "id": "b3bGO9CmVHeo",
        "outputId": "206db7a7-cf4c-4443-8ed6-0f817cd00df7"
      },
      "execution_count": 96,
      "outputs": [
        {
          "output_type": "stream",
          "name": "stderr",
          "text": [
            "/usr/local/lib/python3.7/dist-packages/sklearn/svm/_base.py:1208: ConvergenceWarning: Liblinear failed to converge, increase the number of iterations.\n",
            "  ConvergenceWarning,\n"
          ]
        },
        {
          "output_type": "execute_result",
          "data": {
            "text/plain": [
              "LinearSVC(C=1000, dual=False, max_iter=500, penalty='l1')"
            ]
          },
          "metadata": {},
          "execution_count": 96
        }
      ]
    },
    {
      "cell_type": "code",
      "source": [
        "predicted = lsvc.predict(tfidfv_test) #테스트 데이터에 대한 예측\n",
        "print(\"정확도:\", accuracy_score(y_test, predicted)) #예측값과 실제값 비교"
      ],
      "metadata": {
        "colab": {
          "base_uri": "https://localhost:8080/"
        },
        "id": "hmqZ5J6BVGCw",
        "outputId": "ae80080e-a38c-448a-ac84-62a64023aeda"
      },
      "execution_count": 97,
      "outputs": [
        {
          "output_type": "stream",
          "name": "stdout",
          "text": [
            "정확도: 0.7715939447907391\n"
          ]
        }
      ]
    },
    {
      "cell_type": "markdown",
      "source": [
        "#### 1.4. 결정 나무"
      ],
      "metadata": {
        "id": "XHxI5Bmz6gYW"
      }
    },
    {
      "cell_type": "markdown",
      "source": [
        "- 모든 단어 "
      ],
      "metadata": {
        "id": "ZnlrvTViVNv0"
      }
    },
    {
      "cell_type": "code",
      "source": [
        "tfidfv, y_train, tfidfv_test, y_test = get_tfidf(n_vocb=None)"
      ],
      "metadata": {
        "id": "JcyyFOjhVPdY"
      },
      "execution_count": null,
      "outputs": []
    },
    {
      "cell_type": "code",
      "source": [
        "tree = DecisionTreeClassifier(max_depth=10, random_state=0)\n",
        "tree.fit(tfidfv, y_train)"
      ],
      "metadata": {
        "colab": {
          "base_uri": "https://localhost:8080/"
        },
        "outputId": "15222a48-edd2-49b6-81c1-56ad2c658a65",
        "id": "HhO_vaZt6gYW"
      },
      "execution_count": 87,
      "outputs": [
        {
          "output_type": "execute_result",
          "data": {
            "text/plain": [
              "DecisionTreeClassifier(max_depth=10, random_state=0)"
            ]
          },
          "metadata": {},
          "execution_count": 87
        }
      ]
    },
    {
      "cell_type": "code",
      "source": [
        "predicted = tree.predict(tfidfv_test) #테스트 데이터에 대한 예측\n",
        "print(\"정확도:\", accuracy_score(y_test, predicted)) #예측값과 실제값 비교"
      ],
      "metadata": {
        "colab": {
          "base_uri": "https://localhost:8080/"
        },
        "outputId": "3530b0e0-4370-45c8-bb63-638e72d4bb0f",
        "id": "p9GalRwN6gYW"
      },
      "execution_count": 88,
      "outputs": [
        {
          "output_type": "stream",
          "name": "stdout",
          "text": [
            "정확도: 0.6211041852181657\n"
          ]
        }
      ]
    },
    {
      "cell_type": "markdown",
      "source": [
        "- 5000 단어"
      ],
      "metadata": {
        "id": "CqzyIXAdVU_X"
      }
    },
    {
      "cell_type": "code",
      "source": [
        "tfidfv, y_train, tfidfv_test, y_test = get_tfidf(n_vocb=5000)"
      ],
      "metadata": {
        "id": "QTpOW5GsVV8H"
      },
      "execution_count": null,
      "outputs": []
    },
    {
      "cell_type": "code",
      "source": [
        "tree = DecisionTreeClassifier(max_depth=10, random_state=0)\n",
        "tree.fit(tfidfv, y_train)"
      ],
      "metadata": {
        "colab": {
          "base_uri": "https://localhost:8080/"
        },
        "id": "pJgqZfP7Vx12",
        "outputId": "03408e75-48a0-46ed-b8bd-aabc385ad235"
      },
      "execution_count": 98,
      "outputs": [
        {
          "output_type": "execute_result",
          "data": {
            "text/plain": [
              "DecisionTreeClassifier(max_depth=10, random_state=0)"
            ]
          },
          "metadata": {},
          "execution_count": 98
        }
      ]
    },
    {
      "cell_type": "code",
      "source": [
        "predicted = tree.predict(tfidfv_test) #테스트 데이터에 대한 예측\n",
        "print(\"정확도:\", accuracy_score(y_test, predicted)) #예측값과 실제값 비교"
      ],
      "metadata": {
        "colab": {
          "base_uri": "https://localhost:8080/"
        },
        "id": "ETBgIM06Vy6V",
        "outputId": "a179f4bd-ab01-4a51-a3e9-5549c6d8f241"
      },
      "execution_count": 99,
      "outputs": [
        {
          "output_type": "stream",
          "name": "stdout",
          "text": [
            "정확도: 0.6179875333926982\n"
          ]
        }
      ]
    },
    {
      "cell_type": "markdown",
      "source": [
        "#### 1.5. 랜덤 포레스트"
      ],
      "metadata": {
        "id": "-9gKcUZI6gYW"
      }
    },
    {
      "cell_type": "markdown",
      "source": [
        "- 모든 단어"
      ],
      "metadata": {
        "id": "U7Ces64IVXAV"
      }
    },
    {
      "cell_type": "code",
      "source": [
        "tfidfv, y_train, tfidfv_test, y_test = get_tfidf(n_vocb=None)"
      ],
      "metadata": {
        "id": "JJU19JXHVY_N"
      },
      "execution_count": null,
      "outputs": []
    },
    {
      "cell_type": "code",
      "source": [
        "forest = RandomForestClassifier(n_estimators=5, random_state=0)\n",
        "forest.fit(tfidfv, y_train)"
      ],
      "metadata": {
        "colab": {
          "base_uri": "https://localhost:8080/"
        },
        "outputId": "7e7874ef-c1a5-4987-f906-97ea09817df6",
        "id": "TEF2dX4j6gYW"
      },
      "execution_count": 89,
      "outputs": [
        {
          "output_type": "execute_result",
          "data": {
            "text/plain": [
              "RandomForestClassifier(n_estimators=5, random_state=0)"
            ]
          },
          "metadata": {},
          "execution_count": 89
        }
      ]
    },
    {
      "cell_type": "code",
      "source": [
        "predicted = forest.predict(tfidfv_test) #테스트 데이터에 대한 예측\n",
        "print(\"정확도:\", accuracy_score(y_test, predicted)) #예측값과 실제값 비교"
      ],
      "metadata": {
        "colab": {
          "base_uri": "https://localhost:8080/"
        },
        "outputId": "8eedb82c-d4db-4ee2-dc80-74abfb4dd145",
        "id": "1PmLLqyO6gYW"
      },
      "execution_count": 90,
      "outputs": [
        {
          "output_type": "stream",
          "name": "stdout",
          "text": [
            "정확도: 0.6544968833481746\n"
          ]
        }
      ]
    },
    {
      "cell_type": "markdown",
      "source": [
        "- 5000 단어"
      ],
      "metadata": {
        "id": "-Yoza918V42U"
      }
    },
    {
      "cell_type": "code",
      "source": [
        "tfidfv, y_train, tfidfv_test, y_test = get_tfidf(n_vocb=5000)"
      ],
      "metadata": {
        "id": "MfV4D65pV8LJ"
      },
      "execution_count": null,
      "outputs": []
    },
    {
      "cell_type": "code",
      "source": [
        "forest = RandomForestClassifier(n_estimators=5, random_state=0)\n",
        "forest.fit(tfidfv, y_train)"
      ],
      "metadata": {
        "colab": {
          "base_uri": "https://localhost:8080/"
        },
        "id": "GqsX-52iV-jk",
        "outputId": "ef5788e1-cfb2-4229-8d7a-6da7d08f196e"
      },
      "execution_count": 100,
      "outputs": [
        {
          "output_type": "execute_result",
          "data": {
            "text/plain": [
              "RandomForestClassifier(n_estimators=5, random_state=0)"
            ]
          },
          "metadata": {},
          "execution_count": 100
        }
      ]
    },
    {
      "cell_type": "code",
      "source": [
        "predicted = forest.predict(tfidfv_test) #테스트 데이터에 대한 예측\n",
        "print(\"정확도:\", accuracy_score(y_test, predicted)) #예측값과 실제값 비교"
      ],
      "metadata": {
        "colab": {
          "base_uri": "https://localhost:8080/"
        },
        "id": "hJ7xzbIMV-U0",
        "outputId": "702fbf2b-7f5c-4d40-ddb9-6d316d6c2b86"
      },
      "execution_count": 101,
      "outputs": [
        {
          "output_type": "stream",
          "name": "stdout",
          "text": [
            "정확도: 0.701246660730187\n"
          ]
        }
      ]
    },
    {
      "cell_type": "markdown",
      "source": [
        "#### 1.6. 그래디언트 부스팅 트리(GradientBoostingClassifier)"
      ],
      "metadata": {
        "id": "x6qZVQTb6gYX"
      }
    },
    {
      "cell_type": "markdown",
      "source": [
        "- 모든 단어 "
      ],
      "metadata": {
        "id": "MWmaV2HcVgO-"
      }
    },
    {
      "cell_type": "code",
      "source": [
        "tfidfv, y_train, tfidfv_test, y_test = get_tfidf(n_vocb=None)"
      ],
      "metadata": {
        "id": "Ln1dm9gfVhI-"
      },
      "execution_count": null,
      "outputs": []
    },
    {
      "cell_type": "code",
      "source": [
        "grbt = GradientBoostingClassifier(random_state=0) # verbose=3\n",
        "grbt.fit(tfidfv, y_train)"
      ],
      "metadata": {
        "colab": {
          "base_uri": "https://localhost:8080/"
        },
        "id": "W7x5VU6C6gYX",
        "outputId": "6ad48821-58a7-4773-84d6-0314956bc903"
      },
      "execution_count": 91,
      "outputs": [
        {
          "output_type": "execute_result",
          "data": {
            "text/plain": [
              "GradientBoostingClassifier(random_state=0)"
            ]
          },
          "metadata": {},
          "execution_count": 91
        }
      ]
    },
    {
      "cell_type": "code",
      "source": [
        "predicted = grbt.predict(tfidfv_test) #테스트 데이터에 대한 예측\n",
        "print(\"정확도:\", accuracy_score(y_test, predicted)) #예측값과 실제값 비교"
      ],
      "metadata": {
        "colab": {
          "base_uri": "https://localhost:8080/"
        },
        "id": "p1K_rZqJ6gYX",
        "outputId": "235da18e-317b-4625-9590-05d9ee1bf46e"
      },
      "execution_count": 92,
      "outputs": [
        {
          "output_type": "stream",
          "name": "stdout",
          "text": [
            "정확도: 0.7702582368655387\n"
          ]
        }
      ]
    },
    {
      "cell_type": "markdown",
      "source": [
        "- 5000 단어"
      ],
      "metadata": {
        "id": "6ac0VrSkWB3M"
      }
    },
    {
      "cell_type": "code",
      "source": [
        "tfidfv, y_train, tfidfv_test, y_test = get_tfidf(n_vocb=5000)"
      ],
      "metadata": {
        "id": "2GeX8wthWD4p"
      },
      "execution_count": 101,
      "outputs": []
    },
    {
      "cell_type": "code",
      "source": [
        "grbt = GradientBoostingClassifier(random_state=0) # verbose=3\n",
        "grbt.fit(tfidfv, y_train)"
      ],
      "metadata": {
        "id": "ODmrSmGiWELW"
      },
      "execution_count": 101,
      "outputs": []
    },
    {
      "cell_type": "code",
      "source": [
        "predicted = grbt.predict(tfidfv_test) #테스트 데이터에 대한 예측\n",
        "print(\"정확도:\", accuracy_score(y_test, predicted)) #예측값과 실제값 비교"
      ],
      "metadata": {
        "colab": {
          "base_uri": "https://localhost:8080/",
          "height": 344
        },
        "id": "igLL_ZT8WFV3",
        "outputId": "187b9c5c-d617-46d9-e3e4-fdafa81c454c"
      },
      "execution_count": 102,
      "outputs": [
        {
          "output_type": "error",
          "ename": "ValueError",
          "evalue": "ignored",
          "traceback": [
            "\u001b[0;31m---------------------------------------------------------------------------\u001b[0m",
            "\u001b[0;31mValueError\u001b[0m                                Traceback (most recent call last)",
            "\u001b[0;32m<ipython-input-102-7a9acd642437>\u001b[0m in \u001b[0;36m<module>\u001b[0;34m()\u001b[0m\n\u001b[0;32m----> 1\u001b[0;31m \u001b[0mpredicted\u001b[0m \u001b[0;34m=\u001b[0m \u001b[0mgrbt\u001b[0m\u001b[0;34m.\u001b[0m\u001b[0mpredict\u001b[0m\u001b[0;34m(\u001b[0m\u001b[0mtfidfv_test\u001b[0m\u001b[0;34m)\u001b[0m \u001b[0;31m#테스트 데이터에 대한 예측\u001b[0m\u001b[0;34m\u001b[0m\u001b[0;34m\u001b[0m\u001b[0m\n\u001b[0m\u001b[1;32m      2\u001b[0m \u001b[0mprint\u001b[0m\u001b[0;34m(\u001b[0m\u001b[0;34m\"정확도:\"\u001b[0m\u001b[0;34m,\u001b[0m \u001b[0maccuracy_score\u001b[0m\u001b[0;34m(\u001b[0m\u001b[0my_test\u001b[0m\u001b[0;34m,\u001b[0m \u001b[0mpredicted\u001b[0m\u001b[0;34m)\u001b[0m\u001b[0;34m)\u001b[0m \u001b[0;31m#예측값과 실제값 비교\u001b[0m\u001b[0;34m\u001b[0m\u001b[0;34m\u001b[0m\u001b[0m\n",
            "\u001b[0;32m/usr/local/lib/python3.7/dist-packages/sklearn/ensemble/_gb.py\u001b[0m in \u001b[0;36mpredict\u001b[0;34m(self, X)\u001b[0m\n\u001b[1;32m   1357\u001b[0m             \u001b[0mThe\u001b[0m \u001b[0mpredicted\u001b[0m \u001b[0mvalues\u001b[0m\u001b[0;34m.\u001b[0m\u001b[0;34m\u001b[0m\u001b[0;34m\u001b[0m\u001b[0m\n\u001b[1;32m   1358\u001b[0m         \"\"\"\n\u001b[0;32m-> 1359\u001b[0;31m         \u001b[0mraw_predictions\u001b[0m \u001b[0;34m=\u001b[0m \u001b[0mself\u001b[0m\u001b[0;34m.\u001b[0m\u001b[0mdecision_function\u001b[0m\u001b[0;34m(\u001b[0m\u001b[0mX\u001b[0m\u001b[0;34m)\u001b[0m\u001b[0;34m\u001b[0m\u001b[0;34m\u001b[0m\u001b[0m\n\u001b[0m\u001b[1;32m   1360\u001b[0m         \u001b[0mencoded_labels\u001b[0m \u001b[0;34m=\u001b[0m \u001b[0mself\u001b[0m\u001b[0;34m.\u001b[0m\u001b[0mloss_\u001b[0m\u001b[0;34m.\u001b[0m\u001b[0m_raw_prediction_to_decision\u001b[0m\u001b[0;34m(\u001b[0m\u001b[0mraw_predictions\u001b[0m\u001b[0;34m)\u001b[0m\u001b[0;34m\u001b[0m\u001b[0;34m\u001b[0m\u001b[0m\n\u001b[1;32m   1361\u001b[0m         \u001b[0;32mreturn\u001b[0m \u001b[0mself\u001b[0m\u001b[0;34m.\u001b[0m\u001b[0mclasses_\u001b[0m\u001b[0;34m.\u001b[0m\u001b[0mtake\u001b[0m\u001b[0;34m(\u001b[0m\u001b[0mencoded_labels\u001b[0m\u001b[0;34m,\u001b[0m \u001b[0maxis\u001b[0m\u001b[0;34m=\u001b[0m\u001b[0;36m0\u001b[0m\u001b[0;34m)\u001b[0m\u001b[0;34m\u001b[0m\u001b[0;34m\u001b[0m\u001b[0m\n",
            "\u001b[0;32m/usr/local/lib/python3.7/dist-packages/sklearn/ensemble/_gb.py\u001b[0m in \u001b[0;36mdecision_function\u001b[0;34m(self, X)\u001b[0m\n\u001b[1;32m   1311\u001b[0m         \"\"\"\n\u001b[1;32m   1312\u001b[0m         X = self._validate_data(\n\u001b[0;32m-> 1313\u001b[0;31m             \u001b[0mX\u001b[0m\u001b[0;34m,\u001b[0m \u001b[0mdtype\u001b[0m\u001b[0;34m=\u001b[0m\u001b[0mDTYPE\u001b[0m\u001b[0;34m,\u001b[0m \u001b[0morder\u001b[0m\u001b[0;34m=\u001b[0m\u001b[0;34m\"C\"\u001b[0m\u001b[0;34m,\u001b[0m \u001b[0maccept_sparse\u001b[0m\u001b[0;34m=\u001b[0m\u001b[0;34m\"csr\"\u001b[0m\u001b[0;34m,\u001b[0m \u001b[0mreset\u001b[0m\u001b[0;34m=\u001b[0m\u001b[0;32mFalse\u001b[0m\u001b[0;34m\u001b[0m\u001b[0;34m\u001b[0m\u001b[0m\n\u001b[0m\u001b[1;32m   1314\u001b[0m         )\n\u001b[1;32m   1315\u001b[0m         \u001b[0mraw_predictions\u001b[0m \u001b[0;34m=\u001b[0m \u001b[0mself\u001b[0m\u001b[0;34m.\u001b[0m\u001b[0m_raw_predict\u001b[0m\u001b[0;34m(\u001b[0m\u001b[0mX\u001b[0m\u001b[0;34m)\u001b[0m\u001b[0;34m\u001b[0m\u001b[0;34m\u001b[0m\u001b[0m\n",
            "\u001b[0;32m/usr/local/lib/python3.7/dist-packages/sklearn/base.py\u001b[0m in \u001b[0;36m_validate_data\u001b[0;34m(self, X, y, reset, validate_separately, **check_params)\u001b[0m\n\u001b[1;32m    583\u001b[0m \u001b[0;34m\u001b[0m\u001b[0m\n\u001b[1;32m    584\u001b[0m         \u001b[0;32mif\u001b[0m \u001b[0;32mnot\u001b[0m \u001b[0mno_val_X\u001b[0m \u001b[0;32mand\u001b[0m \u001b[0mcheck_params\u001b[0m\u001b[0;34m.\u001b[0m\u001b[0mget\u001b[0m\u001b[0;34m(\u001b[0m\u001b[0;34m\"ensure_2d\"\u001b[0m\u001b[0;34m,\u001b[0m \u001b[0;32mTrue\u001b[0m\u001b[0;34m)\u001b[0m\u001b[0;34m:\u001b[0m\u001b[0;34m\u001b[0m\u001b[0;34m\u001b[0m\u001b[0m\n\u001b[0;32m--> 585\u001b[0;31m             \u001b[0mself\u001b[0m\u001b[0;34m.\u001b[0m\u001b[0m_check_n_features\u001b[0m\u001b[0;34m(\u001b[0m\u001b[0mX\u001b[0m\u001b[0;34m,\u001b[0m \u001b[0mreset\u001b[0m\u001b[0;34m=\u001b[0m\u001b[0mreset\u001b[0m\u001b[0;34m)\u001b[0m\u001b[0;34m\u001b[0m\u001b[0;34m\u001b[0m\u001b[0m\n\u001b[0m\u001b[1;32m    586\u001b[0m \u001b[0;34m\u001b[0m\u001b[0m\n\u001b[1;32m    587\u001b[0m         \u001b[0;32mreturn\u001b[0m \u001b[0mout\u001b[0m\u001b[0;34m\u001b[0m\u001b[0;34m\u001b[0m\u001b[0m\n",
            "\u001b[0;32m/usr/local/lib/python3.7/dist-packages/sklearn/base.py\u001b[0m in \u001b[0;36m_check_n_features\u001b[0;34m(self, X, reset)\u001b[0m\n\u001b[1;32m    399\u001b[0m         \u001b[0;32mif\u001b[0m \u001b[0mn_features\u001b[0m \u001b[0;34m!=\u001b[0m \u001b[0mself\u001b[0m\u001b[0;34m.\u001b[0m\u001b[0mn_features_in_\u001b[0m\u001b[0;34m:\u001b[0m\u001b[0;34m\u001b[0m\u001b[0;34m\u001b[0m\u001b[0m\n\u001b[1;32m    400\u001b[0m             raise ValueError(\n\u001b[0;32m--> 401\u001b[0;31m                 \u001b[0;34mf\"X has {n_features} features, but {self.__class__.__name__} \"\u001b[0m\u001b[0;34m\u001b[0m\u001b[0;34m\u001b[0m\u001b[0m\n\u001b[0m\u001b[1;32m    402\u001b[0m                 \u001b[0;34mf\"is expecting {self.n_features_in_} features as input.\"\u001b[0m\u001b[0;34m\u001b[0m\u001b[0;34m\u001b[0m\u001b[0m\n\u001b[1;32m    403\u001b[0m             )\n",
            "\u001b[0;31mValueError\u001b[0m: X has 4867 features, but GradientBoostingClassifier is expecting 26506 features as input."
          ]
        }
      ]
    },
    {
      "cell_type": "markdown",
      "source": [
        "경사하강법을 수행하기위해서는 최소한의 인풋이 필요한 것으로 보인다"
      ],
      "metadata": {
        "id": "9UXsUyV3hrKa"
      }
    },
    {
      "cell_type": "markdown",
      "source": [
        "#### 1.7. 보팅(Voting)"
      ],
      "metadata": {
        "id": "gKJhcWBS6gYX"
      }
    },
    {
      "cell_type": "markdown",
      "source": [
        "- 모든 단어 "
      ],
      "metadata": {
        "id": "-DMvNIneVktK"
      }
    },
    {
      "cell_type": "code",
      "source": [
        "tfidfv, y_train, tfidfv_test, y_test = get_tfidf(n_vocb=None)"
      ],
      "metadata": {
        "id": "WM27gm42VmZW"
      },
      "execution_count": null,
      "outputs": []
    },
    {
      "cell_type": "code",
      "source": [
        "voting_classifier = VotingClassifier(estimators=[\n",
        "         ('lr', LogisticRegression(C=10000, penalty='l2')),\n",
        "        ('cb', ComplementNB()),\n",
        "        ('grbt', GradientBoostingClassifier(random_state=0))\n",
        "], voting='soft', n_jobs=-1)\n",
        "voting_classifier.fit(tfidfv, y_train)"
      ],
      "metadata": {
        "colab": {
          "base_uri": "https://localhost:8080/"
        },
        "id": "dMTj_bLr6gYX",
        "outputId": "749d4b21-3c7d-4e74-8e98-38566dc36ad1"
      },
      "execution_count": 93,
      "outputs": [
        {
          "output_type": "execute_result",
          "data": {
            "text/plain": [
              "VotingClassifier(estimators=[('lr', LogisticRegression(C=10000)),\n",
              "                             ('cb', ComplementNB()),\n",
              "                             ('grbt',\n",
              "                              GradientBoostingClassifier(random_state=0))],\n",
              "                 n_jobs=-1, voting='soft')"
            ]
          },
          "metadata": {},
          "execution_count": 93
        }
      ]
    },
    {
      "cell_type": "code",
      "source": [
        "predicted = voting_classifier.predict(tfidfv_test) #테스트 데이터에 대한 예측\n",
        "print(\"정확도:\", accuracy_score(y_test, predicted)) #예측값과 실제값 비교"
      ],
      "metadata": {
        "colab": {
          "base_uri": "https://localhost:8080/"
        },
        "id": "dF4y7TdY6gYX",
        "outputId": "c2949b9d-7d8c-49f7-850d-f1b21f7f9e84"
      },
      "execution_count": 94,
      "outputs": [
        {
          "output_type": "stream",
          "name": "stdout",
          "text": [
            "정확도: 0.8187889581478184\n"
          ]
        }
      ]
    },
    {
      "cell_type": "markdown",
      "source": [
        "- 5000 단어"
      ],
      "metadata": {
        "id": "-7Mgpd3PVoD2"
      }
    },
    {
      "cell_type": "code",
      "source": [
        "tfidfv, y_train, tfidfv_test, y_test = get_tfidf(n_vocb=5000)"
      ],
      "metadata": {
        "id": "RVjODrhVWMYX"
      },
      "execution_count": 118,
      "outputs": []
    },
    {
      "cell_type": "code",
      "source": [
        "voting_classifier = VotingClassifier(estimators=[\n",
        "         ('lr', LogisticRegression(C=10000, penalty='l2')),\n",
        "        ('cb', ComplementNB()),\n",
        "        ('grbt', GradientBoostingClassifier(random_state=0))\n",
        "], voting='soft', n_jobs=-1)\n",
        "voting_classifier.fit(tfidfv, y_train)"
      ],
      "metadata": {
        "id": "Ion-8OXaWMqN"
      },
      "execution_count": null,
      "outputs": []
    },
    {
      "cell_type": "code",
      "source": [
        "predicted = voting_classifier.predict(tfidfv_test) #테스트 데이터에 대한 예측\n",
        "print(\"정확도:\", accuracy_score(y_test, predicted)) #예측값과 실제값 비교"
      ],
      "metadata": {
        "id": "CIdQJjuGWMtT"
      },
      "execution_count": null,
      "outputs": []
    },
    {
      "cell_type": "markdown",
      "source": [
        "그레디언트 부스트가 포함되어있으므로 같은 에러가 발생"
      ],
      "metadata": {
        "id": "BEW6Yt4ij3fW"
      }
    },
    {
      "cell_type": "markdown",
      "source": [
        "## 2. 직접 단어 개수를 설정해서 비교"
      ],
      "metadata": {
        "id": "IWMLTFp1WRaO"
      }
    },
    {
      "cell_type": "code",
      "source": [
        "# 앞서 5000, 10000, 전체를 확인해 보았으니 적절한 값들을 추가로 확인.\n",
        "vocb_list = [1000, 3000, 7000, 9000]"
      ],
      "metadata": {
        "id": "57q0A_I8YxNy"
      },
      "execution_count": 106,
      "outputs": []
    },
    {
      "cell_type": "markdown",
      "source": [
        "#### 2.1. Complement Naive Bayes Classifier(CNB)\n"
      ],
      "metadata": {
        "id": "ZeNx0AyJZNCE"
      }
    },
    {
      "cell_type": "code",
      "source": [
        "for i in vocb_list:\n",
        "    tfidfv, y_train, tfidfv_test, y_test = get_tfidf(n_vocb=i)\n",
        "    cb = ComplementNB()\n",
        "    cb.fit(tfidfv, y_train)\n",
        "    predicted = cb.predict(tfidfv_test) #테스트 데이터에 대한 예측\n",
        "    print(str(i)+\"개 일 때\" + \"정확도:\", accuracy_score(y_test, predicted)) #예측값과 실제값 비교"
      ],
      "metadata": {
        "colab": {
          "base_uri": "https://localhost:8080/"
        },
        "id": "3F1-_txpX1cH",
        "outputId": "a3ba4ba4-6612-4c5f-96eb-93d6ff15d08f"
      },
      "execution_count": 107,
      "outputs": [
        {
          "output_type": "stream",
          "name": "stdout",
          "text": [
            "1000개 일 때정확도: 0.7346393588601959\n",
            "3000개 일 때정확도: 0.7644701691896705\n",
            "7000개 일 때정확도: 0.7684772929652716\n",
            "9000개 일 때정확도: 0.7715939447907391\n"
          ]
        }
      ]
    },
    {
      "cell_type": "markdown",
      "source": [
        "#### 2.2. 로지스틱 회귀"
      ],
      "metadata": {
        "id": "jKuvuGLZZNCF"
      }
    },
    {
      "cell_type": "code",
      "source": [
        "import warnings\n",
        " \n",
        "warnings.filterwarnings(\"ignore\")"
      ],
      "metadata": {
        "id": "G4zNPWLcij9J"
      },
      "execution_count": 109,
      "outputs": []
    },
    {
      "cell_type": "code",
      "source": [
        "for i in vocb_list:\n",
        "    tfidfv, y_train, tfidfv_test, y_test = get_tfidf(n_vocb=i)\n",
        "    lr = LogisticRegression(C=10000, penalty='l2')\n",
        "    lr.fit(tfidfv, y_train)\n",
        "    predicted = lr.predict(tfidfv_test) #테스트 데이터에 대한 예측\n",
        "    print(str(i)+\"개 일 때\" + \"정확도:\", accuracy_score(y_test, predicted)) #예측값과 실제값 비교"
      ],
      "metadata": {
        "colab": {
          "base_uri": "https://localhost:8080/"
        },
        "id": "uqmUbrReZ1m-",
        "outputId": "d4e484e4-352f-4990-abc1-151bb78ed1aa"
      },
      "execution_count": 110,
      "outputs": [
        {
          "output_type": "stream",
          "name": "stdout",
          "text": [
            "1000개 일 때정확도: 0.780053428317008\n",
            "3000개 일 때정확도: 0.794746215494212\n",
            "7000개 일 때정확도: 0.807212822796082\n",
            "9000개 일 때정확도: 0.8103294746215495\n"
          ]
        }
      ]
    },
    {
      "cell_type": "markdown",
      "source": [
        "#### 2.3. 선형 SVM"
      ],
      "metadata": {
        "id": "J0BX9bsyZNCF"
      }
    },
    {
      "cell_type": "code",
      "source": [
        "for i in vocb_list:\n",
        "    tfidfv, y_train, tfidfv_test, y_test = get_tfidf(n_vocb=i)\n",
        "    lsvc = LinearSVC(C=1000, penalty='l1', max_iter=500, dual=False)\n",
        "    lsvc.fit(tfidfv, y_train)\n",
        "    predicted = lsvc.predict(tfidfv_test)\n",
        "    print(str(i)+\"개 일 때\" + \"정확도:\", accuracy_score(y_test, predicted)) #예측값과 실제값 비교"
      ],
      "metadata": {
        "colab": {
          "base_uri": "https://localhost:8080/"
        },
        "id": "9R4EbgxCZ8R_",
        "outputId": "2a750bba-fd8f-4d17-e73f-411198fdda4b"
      },
      "execution_count": 111,
      "outputs": [
        {
          "output_type": "stream",
          "name": "stdout",
          "text": [
            "1000개 일 때정확도: 0.717720391807658\n",
            "3000개 일 때정확도: 0.7493321460373998\n",
            "7000개 일 때정확도: 0.7747105966162066\n",
            "9000개 일 때정확도: 0.7787177203918076\n"
          ]
        }
      ]
    },
    {
      "cell_type": "markdown",
      "source": [
        "#### 2.4. 결정 나무"
      ],
      "metadata": {
        "id": "-_b-OcJ9ZNCF"
      }
    },
    {
      "cell_type": "code",
      "source": [
        "for i in vocb_list:\n",
        "    tfidfv, y_train, tfidfv_test, y_test = get_tfidf(n_vocb=i)\n",
        "    tree = DecisionTreeClassifier(max_depth=10, random_state=0)\n",
        "    tree.fit(tfidfv, y_train)\n",
        "    predicted = tree.predict(tfidfv_test) \n",
        "    print(str(i)+\"개 일 때\" + \"정확도:\", accuracy_score(y_test, predicted)) #예측값과 실제값 비교"
      ],
      "metadata": {
        "colab": {
          "base_uri": "https://localhost:8080/"
        },
        "id": "F9Da6qxzZ-cO",
        "outputId": "f664c042-f1e4-4285-ff45-1634ecfa93f5"
      },
      "execution_count": 112,
      "outputs": [
        {
          "output_type": "stream",
          "name": "stdout",
          "text": [
            "1000개 일 때정확도: 0.6179875333926982\n",
            "3000개 일 때정확도: 0.6260017809439002\n",
            "7000개 일 때정확도: 0.6206589492430988\n",
            "9000개 일 때정확도: 0.6184327693677649\n"
          ]
        }
      ]
    },
    {
      "cell_type": "markdown",
      "source": [
        "#### 2.5. 랜덤 포레스트"
      ],
      "metadata": {
        "id": "NZOQ4VFJZNCG"
      }
    },
    {
      "cell_type": "code",
      "source": [
        "for i in vocb_list:\n",
        "    tfidfv, y_train, tfidfv_test, y_test = get_tfidf(n_vocb=i)\n",
        "    forest = RandomForestClassifier(n_estimators=5, random_state=0)\n",
        "    forest.fit(tfidfv, y_train)\n",
        "    predicted = forest.predict(tfidfv_test) #테스트 데이터에 대한 예측\n",
        "    print(str(i)+\"개 일 때\" + \"정확도:\", accuracy_score(y_test, predicted)) #예측값과 실제값 비교"
      ],
      "metadata": {
        "colab": {
          "base_uri": "https://localhost:8080/"
        },
        "id": "ufF0hF9EaB4f",
        "outputId": "246f0068-f986-4d81-e48a-e26ceabfd9f8"
      },
      "execution_count": 113,
      "outputs": [
        {
          "output_type": "stream",
          "name": "stdout",
          "text": [
            "1000개 일 때정확도: 0.707479964381122\n",
            "3000개 일 때정확도: 0.6856634016028496\n",
            "7000개 일 때정확도: 0.6736420302760463\n",
            "9000개 일 때정확도: 0.6874443455031166\n"
          ]
        }
      ]
    },
    {
      "cell_type": "markdown",
      "source": [
        "#### 2.6. 그래디언트 부스팅 트리(GradientBoostingClassifier)"
      ],
      "metadata": {
        "id": "zd9PwhjQZNCG"
      }
    },
    {
      "cell_type": "code",
      "source": [
        "vocb_list = [7000, 9000]"
      ],
      "metadata": {
        "id": "jgN2oRwljAUG"
      },
      "execution_count": 114,
      "outputs": []
    },
    {
      "cell_type": "code",
      "source": [
        "for i in vocb_list:\n",
        "    tfidfv, y_train, tfidfv_test, y_test = get_tfidf(n_vocb=i)\n",
        "    grbt = GradientBoostingClassifier(random_state=0)\n",
        "    grbt.fit(tfidfv, y_train)\n",
        "    predicted = grbt.predict(tfidfv_test) #테스트 데이터에 대한 예측\n",
        "    print(str(i)+\"개 일 때\" + \"정확도:\", accuracy_score(y_test, predicted)) #예측값과 실제값 비교"
      ],
      "metadata": {
        "colab": {
          "base_uri": "https://localhost:8080/"
        },
        "id": "8XurZd7JaEhs",
        "outputId": "c2b3b0a6-74fe-43e8-90cf-7f33161090b3"
      },
      "execution_count": 115,
      "outputs": [
        {
          "output_type": "stream",
          "name": "stdout",
          "text": [
            "7000개 일 때정확도: 0.7604630454140695\n",
            "9000개 일 때정확도: 0.7684772929652716\n"
          ]
        }
      ]
    },
    {
      "cell_type": "markdown",
      "source": [
        "#### 2.7. 보팅(Voting)"
      ],
      "metadata": {
        "id": "YTIrSmbYZNCG"
      }
    },
    {
      "cell_type": "code",
      "source": [
        "vocb_list = [9000]"
      ],
      "metadata": {
        "id": "ReALDD9Euiqp"
      },
      "execution_count": 120,
      "outputs": []
    },
    {
      "cell_type": "code",
      "source": [
        "for i in vocb_list:\n",
        "    tfidfv, y_train, tfidfv_test, y_test = get_tfidf(n_vocb=i)\n",
        "    voting_classifier = VotingClassifier(estimators=[\n",
        "         ('lr', LogisticRegression(C=10000, penalty='l2')),\n",
        "        ('cb', ComplementNB()),\n",
        "        ('grbt', GradientBoostingClassifier(random_state=0))\n",
        "    ], voting='soft', n_jobs=-1)\n",
        "    voting_classifier.fit(tfidfv, y_train)\n",
        "    predicted = voting_classifier.predict(tfidfv_test) #테스트 데이터에 대한 예측\n",
        "    print(str(i)+\"개 일 때\" + \"정확도:\", accuracy_score(y_test, predicted)) #예측값과 실제값 비교"
      ],
      "metadata": {
        "id": "rcsfW1ZFaHBY"
      },
      "execution_count": null,
      "outputs": []
    },
    {
      "cell_type": "markdown",
      "source": [
        "## 3. 딥러닝 모델과 비교해보기"
      ],
      "metadata": {
        "id": "8GqrIqrekSzP"
      }
    },
    {
      "cell_type": "markdown",
      "source": [
        "- 데이터 불러오기\n",
        "- 빈도 수는 제한을 두지 않음\n",
        "- 최대 길이 수를 제한"
      ],
      "metadata": {
        "id": "tX5E2XYovSWt"
      }
    },
    {
      "cell_type": "code",
      "source": [
        "(x_train, y_train), (x_test, y_test) = reuters.load_data(num_words=None, test_split=0.2)"
      ],
      "metadata": {
        "id": "MdPj5u2VkVq8"
      },
      "execution_count": 131,
      "outputs": []
    },
    {
      "cell_type": "code",
      "source": [
        "len(x_train)"
      ],
      "metadata": {
        "colab": {
          "base_uri": "https://localhost:8080/"
        },
        "id": "RtFs1Sntvywh",
        "outputId": "da468d03-f8b5-4fa5-a186-6d439739b628"
      },
      "execution_count": 132,
      "outputs": [
        {
          "output_type": "execute_result",
          "data": {
            "text/plain": [
              "8982"
            ]
          },
          "metadata": {},
          "execution_count": 132
        }
      ]
    },
    {
      "cell_type": "code",
      "source": [
        "a = [len(i) for i in x_train]\n",
        "np.array(a)"
      ],
      "metadata": {
        "colab": {
          "base_uri": "https://localhost:8080/"
        },
        "id": "CsdjLi3Lv2Xc",
        "outputId": "6976c607-1841-44cb-f5b2-d14a5b21eaff"
      },
      "execution_count": 133,
      "outputs": [
        {
          "output_type": "execute_result",
          "data": {
            "text/plain": [
              "array([ 87,  56, 139, ...,  77, 119, 105])"
            ]
          },
          "metadata": {},
          "execution_count": 133
        }
      ]
    },
    {
      "cell_type": "code",
      "source": [
        "np.mean(a)"
      ],
      "metadata": {
        "colab": {
          "base_uri": "https://localhost:8080/"
        },
        "id": "NOTdtXEywFlc",
        "outputId": "74e2205d-abac-4423-fd83-829af2e2baf5"
      },
      "execution_count": 134,
      "outputs": [
        {
          "output_type": "execute_result",
          "data": {
            "text/plain": [
              "145.5398574927633"
            ]
          },
          "metadata": {},
          "execution_count": 134
        }
      ]
    },
    {
      "cell_type": "code",
      "source": [
        "np.std(a)"
      ],
      "metadata": {
        "colab": {
          "base_uri": "https://localhost:8080/"
        },
        "id": "vO1iT0ZlwFiK",
        "outputId": "87d3955f-56df-4fee-a679-151a4f173db3"
      },
      "execution_count": 135,
      "outputs": [
        {
          "output_type": "execute_result",
          "data": {
            "text/plain": [
              "145.81413013409278"
            ]
          },
          "metadata": {},
          "execution_count": 135
        }
      ]
    },
    {
      "cell_type": "markdown",
      "source": [
        "- 8:2로 스플릿 된 x_train에 대해, 문장 길이의 평균과 표준편차를 확인해보았다.\n",
        "- 문장의 최대 길이를 약 450개로 제한하겠음.\n",
        "- 로이터 모듈의 load_data 메소드는 maxlen을 하이퍼파라미터로 설정할 수 있다.\n",
        "    > https://www.tensorflow.org/api_docs/python/tf/keras/datasets/reuters/load_data"
      ],
      "metadata": {
        "id": "NVQW04AlwFcz"
      }
    },
    {
      "cell_type": "code",
      "source": [
        "(X_train, y_train), (X_test, y_test) = reuters.load_data(num_words=None, test_split=0.2, maxlen=450)"
      ],
      "metadata": {
        "id": "gZ8HxT9BxbpP"
      },
      "execution_count": 147,
      "outputs": []
    },
    {
      "cell_type": "code",
      "source": [
        "len(X_train)"
      ],
      "metadata": {
        "colab": {
          "base_uri": "https://localhost:8080/"
        },
        "id": "x-Oig83uxesG",
        "outputId": "131ff136-c66c-4043-be67-b9b5e1d13d9d"
      },
      "execution_count": 148,
      "outputs": [
        {
          "output_type": "execute_result",
          "data": {
            "text/plain": [
              "8508"
            ]
          },
          "metadata": {},
          "execution_count": 148
        }
      ]
    },
    {
      "cell_type": "markdown",
      "source": [
        "### 3.1.패딩"
      ],
      "metadata": {
        "id": "imcwNxOgvhre"
      }
    },
    {
      "cell_type": "code",
      "source": [
        "import tensorflow as tf"
      ],
      "metadata": {
        "id": "924JIskF04ps"
      },
      "execution_count": 145,
      "outputs": []
    },
    {
      "cell_type": "code",
      "source": [
        "X_train = tf.keras.preprocessing.sequence.pad_sequences(X_train,\n",
        "                                                        value=0,\n",
        "                                                        padding='pre', \n",
        "                                                        maxlen=450)\n",
        "\n",
        "X_test = tf.keras.preprocessing.sequence.pad_sequences(X_test,\n",
        "                                                       value=0,\n",
        "                                                       padding='pre',\n",
        "                                                       maxlen=450)\n",
        "\n",
        "print(f'X_train: {X_train.shape}')\n",
        "print(f'X_test:  {X_test.shape}')"
      ],
      "metadata": {
        "colab": {
          "base_uri": "https://localhost:8080/"
        },
        "id": "G6nalUHhy_Ck",
        "outputId": "14b5ff8f-08a1-4bd8-fab0-e4a1ca0086e5"
      },
      "execution_count": 151,
      "outputs": [
        {
          "output_type": "stream",
          "name": "stdout",
          "text": [
            "X_train: (8508, 450)\n",
            "X_test:  (2127, 450)\n"
          ]
        }
      ]
    },
    {
      "cell_type": "code",
      "source": [
        "X_train[:5]"
      ],
      "metadata": {
        "colab": {
          "base_uri": "https://localhost:8080/"
        },
        "id": "P0Z91F4xynLp",
        "outputId": "e4b3549b-4c23-4db3-8e8e-c7a3a5209b16"
      },
      "execution_count": 152,
      "outputs": [
        {
          "output_type": "execute_result",
          "data": {
            "text/plain": [
              "array([[  0,   0,   0, ...,  15,  17,  12],\n",
              "       [  0,   0,   0, ..., 505,  17,  12],\n",
              "       [  0,   0,   0, ...,  11,  17,  12],\n",
              "       [  0,   0,   0, ..., 222,  17,  12],\n",
              "       [  0,   0,   0, ..., 156,  17,  12]], dtype=int32)"
            ]
          },
          "metadata": {},
          "execution_count": 152
        }
      ]
    },
    {
      "cell_type": "markdown",
      "source": [
        "## 3.2. 검증셋 스플릿"
      ],
      "metadata": {
        "id": "0vwJCaxA1zMo"
      }
    },
    {
      "cell_type": "code",
      "source": [
        "val_len = len(X_train)//5\n",
        "val_len"
      ],
      "metadata": {
        "colab": {
          "base_uri": "https://localhost:8080/"
        },
        "id": "DGwoR2RZ2LKd",
        "outputId": "b7cb781d-d23e-402b-dd25-696902c1f935"
      },
      "execution_count": 154,
      "outputs": [
        {
          "output_type": "execute_result",
          "data": {
            "text/plain": [
              "1701"
            ]
          },
          "metadata": {},
          "execution_count": 154
        }
      ]
    },
    {
      "cell_type": "code",
      "source": [
        "X_val = X_train[:val_len]\n",
        "X_train = X_train[val_len:]\n",
        "\n",
        "y_val = y_train[:val_len]\n",
        "y_train = y_train[val_len:]"
      ],
      "metadata": {
        "id": "AKWa5G7J2NpP"
      },
      "execution_count": 155,
      "outputs": []
    },
    {
      "cell_type": "markdown",
      "source": [
        "## 3.3. 모델 구성"
      ],
      "metadata": {
        "id": "YwyOuf622lY5"
      }
    },
    {
      "cell_type": "code",
      "source": [
        "vocab_size = 8511   \n",
        "word_vector_dim = 300"
      ],
      "metadata": {
        "id": "ahLniQNk2zV5"
      },
      "execution_count": 156,
      "outputs": []
    },
    {
      "cell_type": "code",
      "source": [
        "def build_model():\n",
        "    model = tf.keras.Sequential()\n",
        "    model.add(tf.keras.layers.Embedding(vocab_size,word_vector_dim , input_shape=(None,)))\n",
        "    model.add(tf.keras.layers.LSTM(16))\n",
        "    model.add(tf.keras.layers.Dense(16, activation='relu'))\n",
        "    model.add(tf.keras.layers.Dense(8, activation='relu'))\n",
        "    model.add(tf.keras.layers.Dense(1, activation='sigmoid'))\n",
        "\n",
        "    model.compile(optimizer='adam',\n",
        "                  loss='binary_crossentropy',\n",
        "                  metrics=['accuracy'])\n",
        "\n",
        "    return model"
      ],
      "metadata": {
        "id": "XAVU3Wsm24H_"
      },
      "execution_count": 157,
      "outputs": []
    },
    {
      "cell_type": "code",
      "source": [
        "rnn_model = build_model()"
      ],
      "metadata": {
        "id": "LjY4qITV3HWe"
      },
      "execution_count": 158,
      "outputs": []
    },
    {
      "cell_type": "code",
      "source": [
        "rnn_model.summary()"
      ],
      "metadata": {
        "colab": {
          "base_uri": "https://localhost:8080/"
        },
        "id": "940jMdzB3OrH",
        "outputId": "3d3650ec-ffe7-4c36-d171-1ef4aaeedee8"
      },
      "execution_count": 159,
      "outputs": [
        {
          "output_type": "stream",
          "name": "stdout",
          "text": [
            "Model: \"sequential\"\n",
            "_________________________________________________________________\n",
            " Layer (type)                Output Shape              Param #   \n",
            "=================================================================\n",
            " embedding (Embedding)       (None, None, 300)         2553300   \n",
            "                                                                 \n",
            " lstm (LSTM)                 (None, 16)                20288     \n",
            "                                                                 \n",
            " dense (Dense)               (None, 16)                272       \n",
            "                                                                 \n",
            " dense_1 (Dense)             (None, 8)                 136       \n",
            "                                                                 \n",
            " dense_2 (Dense)             (None, 1)                 9         \n",
            "                                                                 \n",
            "=================================================================\n",
            "Total params: 2,574,005\n",
            "Trainable params: 2,574,005\n",
            "Non-trainable params: 0\n",
            "_________________________________________________________________\n"
          ]
        }
      ]
    },
    {
      "cell_type": "code",
      "source": [
        "from keras.callbacks import EarlyStopping\n",
        "\n",
        "early_stopping = EarlyStopping(monitor='val_accuracy', patience=6, verbose=0, mode='auto')"
      ],
      "metadata": {
        "id": "ppRTuW_73SxH"
      },
      "execution_count": 164,
      "outputs": []
    },
    {
      "cell_type": "code",
      "source": [
        "rnn_model_his = rnn_model.fit(X_train,\n",
        "                    y_train,\n",
        "                    epochs=50,\n",
        "                    batch_size=64,\n",
        "                    validation_data=(X_val, y_val),\n",
        "                    callbacks= [early_stopping],\n",
        "                    verbose=1)"
      ],
      "metadata": {
        "colab": {
          "base_uri": "https://localhost:8080/"
        },
        "id": "J-EzMfr13Z0_",
        "outputId": "6416c8f0-8a52-40cb-c669-7d8dadb0f773"
      },
      "execution_count": 165,
      "outputs": [
        {
          "output_type": "stream",
          "name": "stdout",
          "text": [
            "Epoch 1/50\n",
            "107/107 [==============================] - 3s 29ms/step - loss: -1774.4070 - accuracy: 0.0475 - val_loss: -2450.6475 - val_accuracy: 0.0435\n",
            "Epoch 2/50\n",
            "107/107 [==============================] - 3s 24ms/step - loss: -3277.3833 - accuracy: 0.0475 - val_loss: -4296.6465 - val_accuracy: 0.0435\n",
            "Epoch 3/50\n",
            "107/107 [==============================] - 2s 23ms/step - loss: -5473.7261 - accuracy: 0.0475 - val_loss: -6892.1304 - val_accuracy: 0.0435\n",
            "Epoch 4/50\n",
            "107/107 [==============================] - 2s 23ms/step - loss: -8481.7139 - accuracy: 0.0475 - val_loss: -10364.9814 - val_accuracy: 0.0435\n",
            "Epoch 5/50\n",
            "107/107 [==============================] - 2s 23ms/step - loss: -12413.9424 - accuracy: 0.0475 - val_loss: -14838.9404 - val_accuracy: 0.0435\n",
            "Epoch 6/50\n",
            "107/107 [==============================] - 2s 23ms/step - loss: -17345.7656 - accuracy: 0.0475 - val_loss: -20334.4590 - val_accuracy: 0.0435\n",
            "Epoch 7/50\n",
            "107/107 [==============================] - 2s 23ms/step - loss: -23368.4785 - accuracy: 0.0475 - val_loss: -26960.6582 - val_accuracy: 0.0435\n"
          ]
        }
      ]
    },
    {
      "cell_type": "code",
      "source": [
        "test = rnn_model.evaluate(X_test, y_test, verbose=2)"
      ],
      "metadata": {
        "colab": {
          "base_uri": "https://localhost:8080/"
        },
        "id": "x5V3Qabt3h-q",
        "outputId": "6a09c267-c335-42b2-cbd5-9fd2de59ca34"
      },
      "execution_count": 166,
      "outputs": [
        {
          "output_type": "stream",
          "name": "stdout",
          "text": [
            "67/67 - 1s - loss: -2.6629e+04 - accuracy: 0.0461 - 610ms/epoch - 9ms/step\n"
          ]
        }
      ]
    },
    {
      "cell_type": "markdown",
      "source": [
        "## 4. 마치며\n",
        "\n"
      ],
      "metadata": {
        "id": "8cvWESwq3ogl"
      }
    },
    {
      "cell_type": "markdown",
      "source": [
        "### 기억에 남는 학습 내용\n",
        "- 복원으로 전처리\n",
        "\n",
        "\n",
        "### 어려웠던 점\n",
        "- 딥러닝 모델과 비교.. 모델 구현이 안된다..\n",
        "- 소프트 보팅 앙상블 모델에서 발생하는 에러의 이유를 모르겠음\n",
        "\n",
        "### 추가로 해보고 싶은 점\n",
        "- x\n",
        "\n",
        "\n",
        "### 총평\n",
        "> 원본데이터를 보지도 못했고, 봐도 이해하지 못할 것 같고, 구하고 있는 정확도가 뭔지도 명확히 모르겠다... 한국어로 하고싶다.."
      ],
      "metadata": {
        "id": "T8GrJb-v4CQg"
      }
    },
    {
      "cell_type": "code",
      "source": [
        ""
      ],
      "metadata": {
        "id": "i_KI5twL4dbE"
      },
      "execution_count": null,
      "outputs": []
    }
  ]
}